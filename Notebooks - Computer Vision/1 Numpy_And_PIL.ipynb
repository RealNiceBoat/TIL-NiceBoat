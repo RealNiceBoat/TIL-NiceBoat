{
  "nbformat": 4,
  "nbformat_minor": 0,
  "metadata": {
    "colab": {
      "name": "Numpy-And-PIL.ipynb",
      "provenance": [],
      "collapsed_sections": []
    },
    "kernelspec": {
      "name": "python3",
      "display_name": "Python 3"
    }
  },
  "cells": [
    {
      "cell_type": "code",
      "metadata": {
        "id": "CQJtrOPWU8ts",
        "colab_type": "code",
        "colab": {}
      },
      "source": [
        "import os\n",
        "base_folder = '##PUT YOUR FOLDER HERE##'"
      ],
      "execution_count": 0,
      "outputs": []
    },
    {
      "cell_type": "code",
      "metadata": {
        "id": "-P-98L1t-0_Z",
        "colab_type": "code",
        "colab": {}
      },
      "source": [
        "'''\n",
        "Numpy is a Python numerical computation library that efficiently stores and processes numbers.\n",
        "By numbers, we don't just mean scalars. Vectors, matrices and even higher order tensors are included as well.\n",
        "Install: https://pypi.org/project/numpy/\n",
        "'''\n",
        "# First, import the library like so\n",
        "import numpy as np\n",
        "# Numpy makes the processing of data easy, it is one of the most useful things to learn."
      ],
      "execution_count": 0,
      "outputs": []
    },
    {
      "cell_type": "code",
      "metadata": {
        "id": "ZLJSScnV_uBk",
        "colab_type": "code",
        "colab": {}
      },
      "source": [
        "# Create a vector by feeding a Python list into np.array()\n",
        "v = np.array( [1,2,3] )\n",
        "print(v)"
      ],
      "execution_count": 0,
      "outputs": []
    },
    {
      "cell_type": "code",
      "metadata": {
        "id": "OAHIFIYa_vXb",
        "colab_type": "code",
        "colab": {}
      },
      "source": [
        "# To find out the shape of the structure, numpy objects have a .shape attribute\n",
        "print('The shape of v is: ', v.shape)"
      ],
      "execution_count": 0,
      "outputs": []
    },
    {
      "cell_type": "code",
      "metadata": {
        "id": "fYBDkjseI7Te",
        "colab_type": "code",
        "colab": {}
      },
      "source": [
        "'''\n",
        "Create a 3x3 matrix that looks like:\n",
        "[1 2 3]\n",
        "[4 5 6]\n",
        "[7 8 9]\n",
        "'''\n",
        "# This is done by feeding np.array() with a list of lists (notice they are all the same length, otherwise numpy will complain)\n",
        "m = np.array( [[1,2,3],[4,5,6],[7,8,9]] )\n",
        "print(m)"
      ],
      "execution_count": 0,
      "outputs": []
    },
    {
      "cell_type": "code",
      "metadata": {
        "id": "rTIk-xTvJSpm",
        "colab_type": "code",
        "colab": {}
      },
      "source": [
        "# Again, find out the shape using the attribute\n",
        "print('The shape of m is: ', m.shape)"
      ],
      "execution_count": 0,
      "outputs": []
    },
    {
      "cell_type": "code",
      "metadata": {
        "id": "s8fh3uCNJYoa",
        "colab_type": "code",
        "colab": {}
      },
      "source": [
        "# Besides creating numpy objects, you can also do things to them.\n",
        "# You can read the elements of the object with indices\n",
        "print('The 2nd element of v is: ', v[1])\n",
        "print('The (2,2)-nd element of m is: ', m[1,1])\n",
        "print('The 2nd row of m is: ', m[1])"
      ],
      "execution_count": 0,
      "outputs": []
    },
    {
      "cell_type": "code",
      "metadata": {
        "id": "xL5F74HvNGfV",
        "colab_type": "code",
        "colab": {}
      },
      "source": [
        "# You can add/subtract/multiply objects\n",
        "print('v+1 adds 1 to all the elements of v, yielding: ', v+1)\n",
        "print('v*2 multiplies all elements of v by two, yielding: ', v*2)\n",
        "# Even matrix multiplication\n",
        "print('The matrix multiplication of m and v is: ', m@v)"
      ],
      "execution_count": 0,
      "outputs": []
    },
    {
      "cell_type": "code",
      "metadata": {
        "id": "saIzwVACNnen",
        "colab_type": "code",
        "colab": {}
      },
      "source": [
        "# There are many tools available in numpy for manipulation of data. \n",
        "# Check out the starter tutorial at: https://numpy.org/devdocs/user/absolute_beginners.html for a flavour."
      ],
      "execution_count": 0,
      "outputs": []
    },
    {
      "cell_type": "code",
      "metadata": {
        "id": "rp2X5QY9PJWe",
        "colab_type": "code",
        "colab": {}
      },
      "source": [
        "# PIL (Python Imaging Library)\n",
        "'''\n",
        "- PIL allows us to easily perform higher order operations on images. \n",
        "  - rotations, translations, sharpening require few lines of code\n",
        "  - numpy <-> PIL, easy!\n",
        "    - numpy -> ML models\n",
        "    - PIL -> people\n",
        "- It is not the only image processing library out there. Other popular ones include:\n",
        "  - opencv: https://opencv.org. Real-time applications.\n",
        "  - scikit-image: https://scikit-image.org. Wide toolset, well-supported.\n",
        "  - Use what works for you.\n",
        "'''"
      ],
      "execution_count": 0,
      "outputs": []
    },
    {
      "cell_type": "code",
      "metadata": {
        "id": "TTBrI_lVPRvO",
        "colab_type": "code",
        "colab": {}
      },
      "source": [
        "# The PIL library contains many modules. Image is one of them, and is going to be very commonly used in our case.\n",
        "from PIL import Image"
      ],
      "execution_count": 0,
      "outputs": []
    },
    {
      "cell_type": "code",
      "metadata": {
        "id": "l6OPSUX9UKs5",
        "colab_type": "code",
        "colab": {}
      },
      "source": [
        "# You can read an Image directly using a filepath\n",
        "\n",
        "# Change this to fit your folder and image names\n",
        "imgs_folder = os.path.join( base_folder, '##YOUR IMAGE FOLDER##' )\n",
        "image_filepath = os.path.join( imgs_folder, '##YOUR IMAGE NAME##' )\n",
        "img = Image.open(image_filepath)"
      ],
      "execution_count": 0,
      "outputs": []
    },
    {
      "cell_type": "code",
      "metadata": {
        "id": "BMfimHQcqyQR",
        "colab_type": "code",
        "colab": {}
      },
      "source": [
        "# Let's take a look at the image\n",
        "from IPython.display import display\n",
        "# I'm running this code on an IPython notebook, so this is the way I can show the image.\n",
        "# If you are writing code on a regular non-notebook Python environment, just use: img.show()\n",
        "display(img)"
      ],
      "execution_count": 0,
      "outputs": []
    },
    {
      "cell_type": "code",
      "metadata": {
        "id": "AUDEdFsXVrXS",
        "colab_type": "code",
        "colab": {}
      },
      "source": [
        "# You can read the size of the Image\n",
        "W,H = img.size\n",
        "print('The width of the Image is: ', W)\n",
        "print('The height of the Image is: ', H)"
      ],
      "execution_count": 0,
      "outputs": []
    },
    {
      "cell_type": "code",
      "metadata": {
        "id": "6wOtJ1h3VzeB",
        "colab_type": "code",
        "colab": {}
      },
      "source": [
        "# An Image can be easily converted into a numpy array.\n",
        "img_arr = np.array(img)\n",
        "# The numpy array derived from the Image is a HxWx3 matrix, where H and W are the height and width in pixels\n",
        "# and there are 3 channels for RGB\n",
        "print('The shape of the numpy arr is: ', img_arr.shape)"
      ],
      "execution_count": 0,
      "outputs": []
    },
    {
      "cell_type": "code",
      "metadata": {
        "id": "k7FDpZLdhfL6",
        "colab_type": "code",
        "colab": {}
      },
      "source": [
        "# PIL: img.size gets you W,H\n",
        "# numpy: img.shape gets you H,W,C\n",
        "# CAUTION: Notice that the height and width are flipped between the PIL and numpy representations. Be careful of this."
      ],
      "execution_count": 0,
      "outputs": []
    },
    {
      "cell_type": "code",
      "metadata": {
        "id": "GSyslvsghHA5",
        "colab_type": "code",
        "colab": {}
      },
      "source": [
        "# It is also simple to go from numpy -> PIL\n",
        "back2pil = Image.fromarray(img_arr)\n",
        "display(back2pil)"
      ],
      "execution_count": 0,
      "outputs": []
    },
    {
      "cell_type": "code",
      "metadata": {
        "id": "oYQ6mJ0zywiB",
        "colab_type": "code",
        "colab": {}
      },
      "source": [
        "# To demonstrate how easy it is to use numpy and PIL\n",
        "# Let's write a function to stitch the two input PIL Images side-by-side\n",
        "def stitch_lr(pil_img1, pil_img2):\n",
        "  # First, we should shrink the images\n",
        "  W1,H1 = pil_img1.size\n",
        "  W1,H1 = W1//2, H1//2\n",
        "  W2,H2 = pil_img2.size\n",
        "  W2,H2 = W2//2, H2//2\n",
        "\n",
        "  # Since we are joining at the side, the heights have to match\n",
        "  Hmax = max(H1,H2)\n",
        "  pil_img1 = pil_img1.resize( (W1,Hmax) )\n",
        "  pil_img2 = pil_img2.resize( (W2,Hmax) )\n",
        "  # Next, convert to numpy arrays\n",
        "  img_arr1 = np.array(pil_img1)\n",
        "  img_arr2 = np.array(pil_img2)\n",
        "  stitched = np.hstack( (img_arr1, img_arr2) )\n",
        "  return Image.fromarray( stitched )"
      ],
      "execution_count": 0,
      "outputs": []
    },
    {
      "cell_type": "code",
      "metadata": {
        "id": "uZY7j8fezeiJ",
        "colab_type": "code",
        "colab": {}
      },
      "source": [
        "twins = stitch_lr( img, img )\n",
        "display(twins)"
      ],
      "execution_count": 0,
      "outputs": []
    },
    {
      "cell_type": "code",
      "metadata": {
        "id": "r8ysJYvAkBgZ",
        "colab_type": "code",
        "colab": {}
      },
      "source": [
        "# With PIL, image transformations are pretty easy.\n",
        "img_lrflip = img.transpose(Image.FLIP_LEFT_RIGHT)\n",
        "display( stitch_lr(img,img_lrflip) )"
      ],
      "execution_count": 0,
      "outputs": []
    },
    {
      "cell_type": "code",
      "metadata": {
        "id": "C1DiLS90sI4K",
        "colab_type": "code",
        "colab": {}
      },
      "source": [
        "img_udflip = img.transpose(Image.FLIP_TOP_BOTTOM)\n",
        "display( stitch_lr(img, img_udflip) )"
      ],
      "execution_count": 0,
      "outputs": []
    },
    {
      "cell_type": "code",
      "metadata": {
        "id": "Mh7io81XcPu8",
        "colab_type": "code",
        "colab": {}
      },
      "source": [
        "W,H = img.size\n",
        "img_cropped = img.crop( (W*0.2, H*0.2, W*0.8, H*0.8) )\n",
        "display( stitch_lr(img, img_cropped) )"
      ],
      "execution_count": 0,
      "outputs": []
    },
    {
      "cell_type": "code",
      "metadata": {
        "id": "ZxzsNm6BcwDI",
        "colab_type": "code",
        "colab": {}
      },
      "source": [
        "img_rotated = img.rotate(45)\n",
        "display( stitch_lr(img,img_rotated) )"
      ],
      "execution_count": 0,
      "outputs": []
    },
    {
      "cell_type": "code",
      "metadata": {
        "id": "Y53gc5wXcy6N",
        "colab_type": "code",
        "colab": {}
      },
      "source": [
        "img_translated = img.rotate(0, translate=(50, -50))\n",
        "display( stitch_lr(img,img_translated) )"
      ],
      "execution_count": 0,
      "outputs": []
    },
    {
      "cell_type": "code",
      "metadata": {
        "id": "-gowDoExeyoP",
        "colab_type": "code",
        "colab": {}
      },
      "source": [
        "from PIL import ImageEnhance\n",
        "img_colorbalanced = ImageEnhance.Color(img).enhance(2.0)\n",
        "display( stitch_lr(img,img_colorbalanced) )"
      ],
      "execution_count": 0,
      "outputs": []
    },
    {
      "cell_type": "code",
      "metadata": {
        "id": "QsMfvFxifLpD",
        "colab_type": "code",
        "colab": {}
      },
      "source": [
        "img_contrasted = ImageEnhance.Contrast(img).enhance(2.0)\n",
        "display( stitch_lr(img,img_contrasted) )"
      ],
      "execution_count": 0,
      "outputs": []
    },
    {
      "cell_type": "code",
      "metadata": {
        "id": "UD_Tzsu_fX7e",
        "colab_type": "code",
        "colab": {}
      },
      "source": [
        "img_darkened = ImageEnhance.Brightness(img).enhance(0.2)\n",
        "display( stitch_lr(img,img_darkened) )"
      ],
      "execution_count": 0,
      "outputs": []
    },
    {
      "cell_type": "code",
      "metadata": {
        "id": "K8iEpudEmU3j",
        "colab_type": "code",
        "colab": {}
      },
      "source": [
        "img_sharpened = ImageEnhance.Sharpness(img).enhance(10.0)\n",
        "display( stitch_lr(img,img_sharpened) )"
      ],
      "execution_count": 0,
      "outputs": []
    },
    {
      "cell_type": "code",
      "metadata": {
        "id": "stf6FvYbcFAa",
        "colab_type": "code",
        "colab": {}
      },
      "source": [
        "'''\n",
        "When we feed images into deep neural networks for training, it is useful to transform these images with the above \n",
        "image processing methods, in random combinations and varying intensities.\n",
        "In all the above transformations, you can still tell that there is a cat in the picture. By feeding the network with all of these\n",
        "\"versions\" of the cat, you are encouraging it to generalise - to figure out what exactly gives the picture it's cat-ness.\n",
        "This technique is known as data augmentation.\n",
        "'''\n",
        "# Functions to wrap the above examples, and introduce some randomness to the image transformations\n",
        "def horizontal_flip(img):\n",
        "    return img.transpose(Image.FLIP_LEFT_RIGHT)\n",
        "\n",
        "def vertical_flip(img):\n",
        "    return img.transpose(Image.FLIP_TOP_BOTTOM)\n",
        "\n",
        "def crop(img, range=[0.2,0.8]):\n",
        "  W,H = img.size\n",
        "  crop_xmin = round( np.random.uniform() * range[0] * W )\n",
        "  crop_xmax = round( W * (range[1] + np.random.uniform() * (1-range[1])) )\n",
        "  crop_ymin = round( np.random.uniform() * range[0] * H )\n",
        "  crop_ymax = round( H * (range[1] + np.random.uniform() * (1-range[1])) )\n",
        "  return img.crop( (crop_xmin, crop_ymin, crop_xmax, crop_ymax) )\n",
        "\n",
        "def translate(img, max_translate=0.2):\n",
        "  tx_pix = round( (1 if np.random.uniform() >= 0.5 else -1) * (W * np.random.uniform() * max_translate) )\n",
        "  ty_pix = round( (1 if np.random.uniform() >= 0.5 else -1) * (H * np.random.uniform() * max_translate) )\n",
        "  return img.rotate(0, translate=(tx_pix, ty_pix))\n",
        "\n",
        "def rotate(img, max_rotate_deg=30):\n",
        "  rot_deg = round( (1 if np.random.uniform() >= 0.5 else -1) * (max_rotate_deg * np.random.uniform()) )\n",
        "  return img.rotate(rot_deg)\n",
        "\n",
        "def colorbalance(img, color_factors=[0.2,2.0]):\n",
        "  factor = color_factors[0] + np.random.uniform() * (color_factors[1] - color_factors[0])\n",
        "  enhancer = ImageEnhance.Color(img)\n",
        "  return enhancer.enhance(factor)\n",
        "\n",
        "def contrast(img, contrast_factors=[0.2,2.0]):\n",
        "  factor = contrast_factors[0] + np.random.uniform() * (contrast_factors[1] - contrast_factors[0])\n",
        "  enhancer = ImageEnhance.Contrast(img)\n",
        "  return enhancer.enhance(factor)\n",
        "\n",
        "def brightness(img, brightness_factors=[0.2,2.0]):\n",
        "  factor = brightness_factors[0] + np.random.uniform() * (brightness_factors[1] - brightness_factors[0])\n",
        "  enhancer = ImageEnhance.Brightness(img)\n",
        "  return enhancer.enhance(factor)\n",
        "\n",
        "def sharpness(img, sharpness_factors=[0.2,2.0]):\n",
        "  factor = sharpness_factors[0] + np.random.uniform() * (sharpness_factors[1] - sharpness_factors[0])\n",
        "  enhancer = ImageEnhance.Sharpness(img)\n",
        "  return enhancer.enhance(factor)\n",
        "\n",
        "# This is the default augmentation scheme that we will use for each training image.\n",
        "def augmentations(img, p={'fliplr':0.8, 'flipud':0.8, 'crop':0.8, 'translate':0.8, 'rotate':0.8, 'color':0.8, 'contrast':0.8, 'brightness':0.8, 'sharpness':0}):\n",
        "  if p['color'] > np.random.uniform():\n",
        "    img = colorbalance(img)\n",
        "  if p['contrast'] > np.random.uniform():\n",
        "    img = contrast(img)\n",
        "  if p['brightness'] > np.random.uniform():\n",
        "    img = brightness(img)\n",
        "  if p['sharpness'] > np.random.uniform():\n",
        "    img = sharpness(img)\n",
        "  \n",
        "  if p['fliplr'] > np.random.uniform():\n",
        "    img = horizontal_flip(img)\n",
        "  if p['flipud'] > np.random.uniform():\n",
        "    img = vertical_flip(img)\n",
        "  if p['crop'] > np.random.uniform():\n",
        "    img = crop(img)\n",
        "  if p['translate'] > np.random.uniform():\n",
        "    img = translate(img)\n",
        "  if p['rotate'] > np.random.uniform():\n",
        "    img = rotate(img)\n",
        "  return img\n",
        "  "
      ],
      "execution_count": 0,
      "outputs": []
    },
    {
      "cell_type": "code",
      "metadata": {
        "id": "aesUMtuEAEp_",
        "colab_type": "code",
        "colab": {}
      },
      "source": [
        "# Let's see a few random augmentation\n",
        "for _ in range(5):\n",
        "  aug_img = augmentations( img )\n",
        "  display(aug_img)"
      ],
      "execution_count": 0,
      "outputs": []
    },
    {
      "cell_type": "code",
      "metadata": {
        "id": "fOr5IxVxhi32",
        "colab_type": "code",
        "colab": {}
      },
      "source": [
        "# In summary...\n",
        "# Numpy and PIL are among the easiest to use libraries for manipulation of numerical data and images\n",
        "# It is easy to convert between numpy and PIL\n",
        "# But feel free to explore other image processing libraries, such as scikit-image and opencv as well.\n",
        "# - opencv: fast, realtime\n",
        "# - scikit-image: feature rich toolset\n"
      ],
      "execution_count": 0,
      "outputs": []
    }
  ]
}
{
 "cells": [
  {
   "cell_type": "code",
   "execution_count": 1,
   "metadata": {},
   "outputs": [
    {
     "output_type": "stream",
     "name": "stdout",
     "text": "PyTorch Version:  1.5.0\nTorchvision Version:  0.6.0\n"
    }
   ],
   "source": [
    "import torch\n",
    "import torch.nn as nn\n",
    "import torch.optim as optim\n",
    "import numpy as np\n",
    "import torchvision\n",
    "from torchvision import models, transforms\n",
    "from tqdm import tqdm\n",
    "from collections import OrderedDict\n",
    "print(\"PyTorch Version: \",torch.__version__)\n",
    "print(\"Torchvision Version: \",torchvision.__version__)"
   ]
  },
  {
   "cell_type": "code",
   "execution_count": 2,
   "metadata": {},
   "outputs": [],
   "source": [
    "#Paths\n",
    "from pathlib import Path\n",
    "base_folder = Path('.')\n",
    "data_folder = base_folder/'til2020'\n",
    "train_imgs_folder = data_folder/'train'/'train'\n",
    "train_annotations = data_folder/'train_final.json'\n",
    "val_imgs_folder = data_folder/'val'/'val'\n",
    "val_annotations = data_folder/'val_final.json'\n",
    "\n",
    "train_pickle = data_folder/'train.p'/'train.p'\n",
    "val_pickle = data_folder/'val.p'/'val.p'\n",
    "\n",
    "save_model_folder = base_folder/'ckpts'\n",
    "load_model_folder = data_folder"
   ]
  },
  {
   "cell_type": "code",
   "execution_count": 106,
   "metadata": {},
   "outputs": [],
   "source": [
    "class Config():\n",
    "    input_shape = (3,224,224) #hardcoded into pretrained, cannot change\n",
    "    categories = ['tops', 'trousers', 'outerwear', 'dresses', 'skirts']\n",
    "\n",
    "    wt_decay = 5e-4\n",
    "    dims_list = [(7,7),(14,14)] #hardcoded into structure, cannot change\n",
    "    aspect_ratios = [(1,1), (1,2), (2,1)]\n",
    "    intermediate_layer = 6 #layer3 output res of pretrained (22nd repeating unit) is 14x14"
   ]
  },
  {
   "cell_type": "code",
   "execution_count": 213,
   "metadata": {},
   "outputs": [],
   "source": [
    "'''\n",
    "close adaptation of the one in the example, just different backbone\n",
    "padding=(1,1) enables padding in both dimensions like 'same'\n",
    "padding=0 disables padding like 'valid'\n",
    "purpose of kernel_regularizer is done by the optimizer in pyTorch\n",
    "'''\n",
    "class ObjectCNNModel(nn.Module):\n",
    "    def __init__(self,conf):\n",
    "        super(ObjectCNNModel,self).__init__()\n",
    "        self.intermediate_layer = conf.intermediate_layer\n",
    "        self.dims_list = conf.dims_list\n",
    "        self.aspect_ratios = conf.aspect_ratios\n",
    "        self.categories = conf.categories\n",
    "\n",
    "        #remove last layer, gain access to intermediates\n",
    "        pretrained_model = torchvision.models.resnext101_32x8d(pretrained=True)\n",
    "        self.pretrained = list(pretrained_model.children())[:-1]\n",
    "\n",
    "        from torch.nn import Conv2d,BatchNorm2d,LeakyReLU,ConvTranspose2d\n",
    "        def add_activation(layers):\n",
    "            return [l for x in layers for l in (\n",
    "                x,\n",
    "                BatchNorm2d(x.out_channels),\n",
    "                LeakyReLU(0.01),\n",
    "            )] #[l1,bn,relu,l2,bn,relu,l3,bn,relu...]\n",
    "\n",
    "        self.upsampler = nn.Sequential(*add_activation([\n",
    "            Conv2d(2048,512,1,padding=(1,1)),\n",
    "            Conv2d(512,1024,3,padding=(1,1)),\n",
    "            Conv2d(1024,512,1,padding=(1,1)),\n",
    "            Conv2d(512,1024,3,padding=(1,1)),\n",
    "            Conv2d(1024,512,1,padding=(1,1)),\n",
    "        ]))\n",
    "        self.dim_7x7_layer = nn.Sequential(*add_activation([Conv2d(512,2048,3,padding=(1,1))]))\n",
    "        self.transposer = nn.Sequential(*add_activation([\n",
    "            Conv2d(512,256,1,padding=(1,1)),\n",
    "            ConvTranspose2d(256,512,4,stride=(2,2),padding=(3,3))\n",
    "        ]))\n",
    "        self.dim_14x14_layer = nn.Sequential(*add_activation([\n",
    "            Conv2d(1024+512,256,1,padding=(1,1)), #torch.cat((N,512,14,14),(N,1024,14,14))\n",
    "            Conv2d(256,512,3,padding=(1,1)),\n",
    "            Conv2d(512,256,1,padding=(1,1)),\n",
    "            Conv2d(256,512,3,padding=(1,1)),\n",
    "            Conv2d(512,256,1,padding=(1,1)),\n",
    "            Conv2d(256,512,3,padding=(1,1)),\n",
    "        ]))\n",
    "        self.predictors_7x7 = []\n",
    "        self.predictors_14x14 = []\n",
    "        for aspect in self.aspect_ratios:\n",
    "            #no activation here\n",
    "            self.predictors_7x7.append([\n",
    "                Conv2d(2048,1,1), #objectness\n",
    "                Conv2d(2048,len(self.categories),1), #class\n",
    "                Conv2d(2048,4,1) #bbox\n",
    "            ])\n",
    "            self.predictors_14x14.append([\n",
    "                Conv2d(512,1,1), #objectness\n",
    "                Conv2d(512,len(self.categories),1), #class\n",
    "                Conv2d(512,4,1) #bbox\n",
    "            ])\n",
    "    \n",
    "    def forward(self,x):\n",
    "        intermediate_output = torch.zeros(x.shape[0],1024,14,14)\n",
    "        for i,layer in enumerate(self.pretrained):\n",
    "            x = layer(x)\n",
    "            if i == self.intermediate_layer: intermediate_output = x\n",
    "        backbone_output = x\n",
    "        print(f'Intermediate:{intermediate_output.shape}')\n",
    "        print(f'Backbone:{backbone_output.shape}')\n",
    "\n",
    "        upsample = self.upsampler(backbone_output)\n",
    "        print(f'self.transposer(upsample):{self.transposer(upsample).shape}')\n",
    "        tens_7x7 = torch.add(self.dim_7x7_layer(upsample),backbone_output)\n",
    "        x = torch.cat((self.transposer(upsample),intermediate_output),dim=1)\n",
    "        tens_14x14 = self.dim_14x14_layer(x)\n",
    "\n",
    "        pred_7x7 = []\n",
    "        for predictor in self.predictors_7x7:\n",
    "            pred_7x7.append(torch.cat((\n",
    "                predictor[0](tens_7x7),\n",
    "                predictor[1](tens_7x7),\n",
    "                predictor[2](tens_7x7),\n",
    "            ),dim=1))\n",
    "        pred_7x7 = torch.cat(pred_7x7)\n",
    "        pred_7x7 = torch.reshape(pred_7x7,(7,7,len(self.aspect_ratios),len(self.categories)+5))\n",
    "\n",
    "        pred_14x14 = []\n",
    "        for predictor in self.predictors_14x14:\n",
    "            pred_14x14.append(torch.cat((\n",
    "                predictor[0](tens_14x14),\n",
    "                predictor[1](tens_14x14),\n",
    "                predictor[2](tens_14x14),\n",
    "            ),dim=1))\n",
    "        pred_14x14 = torch.cat(pred_14x14)\n",
    "        print(f'tens_14x14:{tens_14x14.shape}')\n",
    "        pred_14x14 = torch.reshape(pred_14x14,(14,14,len(self.aspect_ratios),len(self.categories)+5))\n",
    "\n",
    "        return {'7x7':pred_7x7,'14x14':pred_14x14}"
   ]
  },
  {
   "cell_type": "code",
   "execution_count": 214,
   "metadata": {},
   "outputs": [],
   "source": [
    "model = ObjectCNNModel(Config)"
   ]
  },
  {
   "cell_type": "markdown",
   "metadata": {},
   "source": [
    "#backbone = torchvision.models.resnet50(pretrained=True)\n",
    "backbone = torchvision.models.resnext101_32x8d(pretrained=True) #SOTA\n"
   ]
  },
  {
   "cell_type": "markdown",
   "metadata": {},
   "source": [
    "from torchsummaryX import summary\n",
    "df = summary(backbone,torch.zeros((1,)+(Config.input_shape)))\n",
    "print(df.loc[df.index.str.contains(pat = 'layer3')])\n",
    "list(backbone.children())[:][6]"
   ]
  },
  {
   "cell_type": "code",
   "execution_count": 215,
   "metadata": {},
   "outputs": [
    {
     "output_type": "stream",
     "name": "stdout",
     "text": "Intermediate:torch.Size([1, 1024, 14, 14])\nBackbone:torch.Size([1, 2048, 1, 1])\nself.transposer(upsample):torch.Size([1, 512, 14, 14])\n"
    },
    {
     "output_type": "error",
     "ename": "RuntimeError",
     "evalue": "Sizes of tensors must match except in dimension 0. Got 512 and 1024 in dimension 1",
     "traceback": [
      "\u001b[1;31m---------------------------------------------------------------------------\u001b[0m",
      "\u001b[1;31mRuntimeError\u001b[0m                              Traceback (most recent call last)",
      "\u001b[1;32m<ipython-input-215-781fc38ca0fd>\u001b[0m in \u001b[0;36m<module>\u001b[1;34m\u001b[0m\n\u001b[0;32m      1\u001b[0m \u001b[1;32mfrom\u001b[0m \u001b[0mtorchsummaryX\u001b[0m \u001b[1;32mimport\u001b[0m \u001b[0msummary\u001b[0m\u001b[1;33m\u001b[0m\u001b[1;33m\u001b[0m\u001b[0m\n\u001b[1;32m----> 2\u001b[1;33m \u001b[0mdf\u001b[0m \u001b[1;33m=\u001b[0m \u001b[0msummary\u001b[0m\u001b[1;33m(\u001b[0m\u001b[0mmodel\u001b[0m\u001b[1;33m,\u001b[0m\u001b[0mtorch\u001b[0m\u001b[1;33m.\u001b[0m\u001b[0mzeros\u001b[0m\u001b[1;33m(\u001b[0m\u001b[1;33m(\u001b[0m\u001b[1;36m1\u001b[0m\u001b[1;33m,\u001b[0m\u001b[1;33m)\u001b[0m\u001b[1;33m+\u001b[0m\u001b[1;33m(\u001b[0m\u001b[0mConfig\u001b[0m\u001b[1;33m.\u001b[0m\u001b[0minput_shape\u001b[0m\u001b[1;33m)\u001b[0m\u001b[1;33m)\u001b[0m\u001b[1;33m)\u001b[0m\u001b[1;33m\u001b[0m\u001b[1;33m\u001b[0m\u001b[0m\n\u001b[0m",
      "\u001b[1;32mE:\\Anaconda3\\envs\\TIL\\lib\\site-packages\\torchsummaryX\\torchsummaryX.py\u001b[0m in \u001b[0;36msummary\u001b[1;34m(model, x, *args, **kwargs)\u001b[0m\n\u001b[0;32m     84\u001b[0m     \u001b[1;32mtry\u001b[0m\u001b[1;33m:\u001b[0m\u001b[1;33m\u001b[0m\u001b[1;33m\u001b[0m\u001b[0m\n\u001b[0;32m     85\u001b[0m         \u001b[1;32mwith\u001b[0m \u001b[0mtorch\u001b[0m\u001b[1;33m.\u001b[0m\u001b[0mno_grad\u001b[0m\u001b[1;33m(\u001b[0m\u001b[1;33m)\u001b[0m\u001b[1;33m:\u001b[0m\u001b[1;33m\u001b[0m\u001b[1;33m\u001b[0m\u001b[0m\n\u001b[1;32m---> 86\u001b[1;33m             \u001b[0mmodel\u001b[0m\u001b[1;33m(\u001b[0m\u001b[0mx\u001b[0m\u001b[1;33m)\u001b[0m \u001b[1;32mif\u001b[0m \u001b[1;32mnot\u001b[0m \u001b[1;33m(\u001b[0m\u001b[0mkwargs\u001b[0m \u001b[1;32mor\u001b[0m \u001b[0margs\u001b[0m\u001b[1;33m)\u001b[0m \u001b[1;32melse\u001b[0m \u001b[0mmodel\u001b[0m\u001b[1;33m(\u001b[0m\u001b[0mx\u001b[0m\u001b[1;33m,\u001b[0m \u001b[1;33m*\u001b[0m\u001b[0margs\u001b[0m\u001b[1;33m,\u001b[0m \u001b[1;33m**\u001b[0m\u001b[0mkwargs\u001b[0m\u001b[1;33m)\u001b[0m\u001b[1;33m\u001b[0m\u001b[1;33m\u001b[0m\u001b[0m\n\u001b[0m\u001b[0;32m     87\u001b[0m     \u001b[1;32mfinally\u001b[0m\u001b[1;33m:\u001b[0m\u001b[1;33m\u001b[0m\u001b[1;33m\u001b[0m\u001b[0m\n\u001b[0;32m     88\u001b[0m         \u001b[1;32mfor\u001b[0m \u001b[0mhook\u001b[0m \u001b[1;32min\u001b[0m \u001b[0mhooks\u001b[0m\u001b[1;33m:\u001b[0m\u001b[1;33m\u001b[0m\u001b[1;33m\u001b[0m\u001b[0m\n",
      "\u001b[1;32mE:\\Anaconda3\\envs\\TIL\\lib\\site-packages\\torch\\nn\\modules\\module.py\u001b[0m in \u001b[0;36m__call__\u001b[1;34m(self, *input, **kwargs)\u001b[0m\n\u001b[0;32m    548\u001b[0m             \u001b[0mresult\u001b[0m \u001b[1;33m=\u001b[0m \u001b[0mself\u001b[0m\u001b[1;33m.\u001b[0m\u001b[0m_slow_forward\u001b[0m\u001b[1;33m(\u001b[0m\u001b[1;33m*\u001b[0m\u001b[0minput\u001b[0m\u001b[1;33m,\u001b[0m \u001b[1;33m**\u001b[0m\u001b[0mkwargs\u001b[0m\u001b[1;33m)\u001b[0m\u001b[1;33m\u001b[0m\u001b[1;33m\u001b[0m\u001b[0m\n\u001b[0;32m    549\u001b[0m         \u001b[1;32melse\u001b[0m\u001b[1;33m:\u001b[0m\u001b[1;33m\u001b[0m\u001b[1;33m\u001b[0m\u001b[0m\n\u001b[1;32m--> 550\u001b[1;33m             \u001b[0mresult\u001b[0m \u001b[1;33m=\u001b[0m \u001b[0mself\u001b[0m\u001b[1;33m.\u001b[0m\u001b[0mforward\u001b[0m\u001b[1;33m(\u001b[0m\u001b[1;33m*\u001b[0m\u001b[0minput\u001b[0m\u001b[1;33m,\u001b[0m \u001b[1;33m**\u001b[0m\u001b[0mkwargs\u001b[0m\u001b[1;33m)\u001b[0m\u001b[1;33m\u001b[0m\u001b[1;33m\u001b[0m\u001b[0m\n\u001b[0m\u001b[0;32m    551\u001b[0m         \u001b[1;32mfor\u001b[0m \u001b[0mhook\u001b[0m \u001b[1;32min\u001b[0m \u001b[0mself\u001b[0m\u001b[1;33m.\u001b[0m\u001b[0m_forward_hooks\u001b[0m\u001b[1;33m.\u001b[0m\u001b[0mvalues\u001b[0m\u001b[1;33m(\u001b[0m\u001b[1;33m)\u001b[0m\u001b[1;33m:\u001b[0m\u001b[1;33m\u001b[0m\u001b[1;33m\u001b[0m\u001b[0m\n\u001b[0;32m    552\u001b[0m             \u001b[0mhook_result\u001b[0m \u001b[1;33m=\u001b[0m \u001b[0mhook\u001b[0m\u001b[1;33m(\u001b[0m\u001b[0mself\u001b[0m\u001b[1;33m,\u001b[0m \u001b[0minput\u001b[0m\u001b[1;33m,\u001b[0m \u001b[0mresult\u001b[0m\u001b[1;33m)\u001b[0m\u001b[1;33m\u001b[0m\u001b[1;33m\u001b[0m\u001b[0m\n",
      "\u001b[1;32m<ipython-input-213-2c050d13c0d3>\u001b[0m in \u001b[0;36mforward\u001b[1;34m(self, x)\u001b[0m\n\u001b[0;32m     72\u001b[0m         \u001b[0mprint\u001b[0m\u001b[1;33m(\u001b[0m\u001b[1;34mf'self.transposer(upsample):{self.transposer(upsample).shape}'\u001b[0m\u001b[1;33m)\u001b[0m\u001b[1;33m\u001b[0m\u001b[1;33m\u001b[0m\u001b[0m\n\u001b[0;32m     73\u001b[0m         \u001b[0mtens_7x7\u001b[0m \u001b[1;33m=\u001b[0m \u001b[0mtorch\u001b[0m\u001b[1;33m.\u001b[0m\u001b[0madd\u001b[0m\u001b[1;33m(\u001b[0m\u001b[0mself\u001b[0m\u001b[1;33m.\u001b[0m\u001b[0mdim_7x7_layer\u001b[0m\u001b[1;33m(\u001b[0m\u001b[0mupsample\u001b[0m\u001b[1;33m)\u001b[0m\u001b[1;33m,\u001b[0m\u001b[0mbackbone_output\u001b[0m\u001b[1;33m)\u001b[0m\u001b[1;33m\u001b[0m\u001b[1;33m\u001b[0m\u001b[0m\n\u001b[1;32m---> 74\u001b[1;33m         \u001b[0mx\u001b[0m \u001b[1;33m=\u001b[0m \u001b[0mtorch\u001b[0m\u001b[1;33m.\u001b[0m\u001b[0mcat\u001b[0m\u001b[1;33m(\u001b[0m\u001b[1;33m(\u001b[0m\u001b[0mself\u001b[0m\u001b[1;33m.\u001b[0m\u001b[0mtransposer\u001b[0m\u001b[1;33m(\u001b[0m\u001b[0mupsample\u001b[0m\u001b[1;33m)\u001b[0m\u001b[1;33m,\u001b[0m\u001b[0mintermediate_output\u001b[0m\u001b[1;33m)\u001b[0m\u001b[1;33m)\u001b[0m\u001b[1;33m\u001b[0m\u001b[1;33m\u001b[0m\u001b[0m\n\u001b[0m\u001b[0;32m     75\u001b[0m         \u001b[0mtens_14x14\u001b[0m \u001b[1;33m=\u001b[0m \u001b[0mself\u001b[0m\u001b[1;33m.\u001b[0m\u001b[0mdim_14x14_layer\u001b[0m\u001b[1;33m(\u001b[0m\u001b[0mx\u001b[0m\u001b[1;33m)\u001b[0m\u001b[1;33m\u001b[0m\u001b[1;33m\u001b[0m\u001b[0m\n\u001b[0;32m     76\u001b[0m \u001b[1;33m\u001b[0m\u001b[0m\n",
      "\u001b[1;31mRuntimeError\u001b[0m: Sizes of tensors must match except in dimension 0. Got 512 and 1024 in dimension 1"
     ]
    }
   ],
   "source": [
    "from torchsummaryX import summary\n",
    "df = summary(model,torch.zeros((1,)+(Config.input_shape)))"
   ]
  },
  {
   "cell_type": "code",
   "execution_count": null,
   "metadata": {},
   "outputs": [],
   "source": []
  },
  {
   "cell_type": "code",
   "execution_count": null,
   "metadata": {},
   "outputs": [],
   "source": []
  }
 ],
 "metadata": {
  "language_info": {
   "codemirror_mode": {
    "name": "ipython",
    "version": 3
   },
   "file_extension": ".py",
   "mimetype": "text/x-python",
   "name": "python",
   "nbconvert_exporter": "python",
   "pygments_lexer": "ipython3",
   "version": "3.8.3-final"
  },
  "orig_nbformat": 2,
  "kernelspec": {
   "name": "python38364bittilconda431f6b117ae54518ae316f75f88a7342",
   "display_name": "Python 3.8.3 64-bit ('TIL': conda)"
  }
 },
 "nbformat": 4,
 "nbformat_minor": 2
}
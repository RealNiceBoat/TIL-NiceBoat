{
 "cells": [
  {
   "cell_type": "markdown",
   "metadata": {},
   "source": [
    "# Text Preprocessing"
   ]
  },
  {
   "cell_type": "code",
   "execution_count": 1,
   "metadata": {},
   "outputs": [],
   "source": [
    "import pandas as pd"
   ]
  },
  {
   "cell_type": "code",
   "execution_count": 2,
   "metadata": {},
   "outputs": [
    {
     "name": "stdout",
     "output_type": "stream",
     "text": [
      "<class 'pandas.core.frame.DataFrame'>\n",
      "RangeIndex: 34660 entries, 0 to 34659\n",
      "Data columns (total 21 columns):\n",
      "id                      34660 non-null object\n",
      "name                    27900 non-null object\n",
      "asins                   34658 non-null object\n",
      "brand                   34660 non-null object\n",
      "categories              34660 non-null object\n",
      "keys                    34660 non-null object\n",
      "manufacturer            34660 non-null object\n",
      "reviews.date            34621 non-null object\n",
      "reviews.dateAdded       24039 non-null object\n",
      "reviews.dateSeen        34660 non-null object\n",
      "reviews.didPurchase     1 non-null object\n",
      "reviews.doRecommend     34066 non-null object\n",
      "reviews.id              1 non-null float64\n",
      "reviews.numHelpful      34131 non-null float64\n",
      "reviews.rating          34627 non-null float64\n",
      "reviews.sourceURLs      34660 non-null object\n",
      "reviews.text            34659 non-null object\n",
      "reviews.title           34655 non-null object\n",
      "reviews.userCity        0 non-null float64\n",
      "reviews.userProvince    0 non-null float64\n",
      "reviews.username        34658 non-null object\n",
      "dtypes: float64(5), object(16)\n",
      "memory usage: 5.6+ MB\n"
     ]
    },
    {
     "name": "stderr",
     "output_type": "stream",
     "text": [
      "/home/aaron/.local/lib/python3.6/site-packages/IPython/core/interactiveshell.py:3058: DtypeWarning: Columns (1,10) have mixed types. Specify dtype option on import or set low_memory=False.\n",
      "  interactivity=interactivity, compiler=compiler, result=result)\n"
     ]
    }
   ],
   "source": [
    "data = pd.read_csv('./dataset/1429_1.csv')\n",
    "data.info()"
   ]
  },
  {
   "cell_type": "code",
   "execution_count": 4,
   "metadata": {},
   "outputs": [
    {
     "data": {
      "text/html": [
       "<div>\n",
       "<style scoped>\n",
       "    .dataframe tbody tr th:only-of-type {\n",
       "        vertical-align: middle;\n",
       "    }\n",
       "\n",
       "    .dataframe tbody tr th {\n",
       "        vertical-align: top;\n",
       "    }\n",
       "\n",
       "    .dataframe thead th {\n",
       "        text-align: right;\n",
       "    }\n",
       "</style>\n",
       "<table border=\"1\" class=\"dataframe\">\n",
       "  <thead>\n",
       "    <tr style=\"text-align: right;\">\n",
       "      <th></th>\n",
       "      <th>id</th>\n",
       "      <th>name</th>\n",
       "      <th>asins</th>\n",
       "      <th>brand</th>\n",
       "      <th>categories</th>\n",
       "      <th>keys</th>\n",
       "      <th>manufacturer</th>\n",
       "      <th>reviews.date</th>\n",
       "      <th>reviews.dateAdded</th>\n",
       "      <th>reviews.dateSeen</th>\n",
       "      <th>...</th>\n",
       "      <th>reviews.doRecommend</th>\n",
       "      <th>reviews.id</th>\n",
       "      <th>reviews.numHelpful</th>\n",
       "      <th>reviews.rating</th>\n",
       "      <th>reviews.sourceURLs</th>\n",
       "      <th>reviews.text</th>\n",
       "      <th>reviews.title</th>\n",
       "      <th>reviews.userCity</th>\n",
       "      <th>reviews.userProvince</th>\n",
       "      <th>reviews.username</th>\n",
       "    </tr>\n",
       "  </thead>\n",
       "  <tbody>\n",
       "    <tr>\n",
       "      <th>0</th>\n",
       "      <td>AVqkIhwDv8e3D1O-lebb</td>\n",
       "      <td>All-New Fire HD 8 Tablet, 8 HD Display, Wi-Fi,...</td>\n",
       "      <td>B01AHB9CN2</td>\n",
       "      <td>Amazon</td>\n",
       "      <td>Electronics,iPad &amp; Tablets,All Tablets,Fire Ta...</td>\n",
       "      <td>841667104676,amazon/53004484,amazon/b01ahb9cn2...</td>\n",
       "      <td>Amazon</td>\n",
       "      <td>2017-01-13T00:00:00.000Z</td>\n",
       "      <td>2017-07-03T23:33:15Z</td>\n",
       "      <td>2017-06-07T09:04:00.000Z,2017-04-30T00:45:00.000Z</td>\n",
       "      <td>...</td>\n",
       "      <td>True</td>\n",
       "      <td>NaN</td>\n",
       "      <td>0.0</td>\n",
       "      <td>5.0</td>\n",
       "      <td>http://reviews.bestbuy.com/3545/5620406/review...</td>\n",
       "      <td>This product so far has not disappointed. My c...</td>\n",
       "      <td>Kindle</td>\n",
       "      <td>NaN</td>\n",
       "      <td>NaN</td>\n",
       "      <td>Adapter</td>\n",
       "    </tr>\n",
       "    <tr>\n",
       "      <th>1</th>\n",
       "      <td>AVqkIhwDv8e3D1O-lebb</td>\n",
       "      <td>All-New Fire HD 8 Tablet, 8 HD Display, Wi-Fi,...</td>\n",
       "      <td>B01AHB9CN2</td>\n",
       "      <td>Amazon</td>\n",
       "      <td>Electronics,iPad &amp; Tablets,All Tablets,Fire Ta...</td>\n",
       "      <td>841667104676,amazon/53004484,amazon/b01ahb9cn2...</td>\n",
       "      <td>Amazon</td>\n",
       "      <td>2017-01-13T00:00:00.000Z</td>\n",
       "      <td>2017-07-03T23:33:15Z</td>\n",
       "      <td>2017-06-07T09:04:00.000Z,2017-04-30T00:45:00.000Z</td>\n",
       "      <td>...</td>\n",
       "      <td>True</td>\n",
       "      <td>NaN</td>\n",
       "      <td>0.0</td>\n",
       "      <td>5.0</td>\n",
       "      <td>http://reviews.bestbuy.com/3545/5620406/review...</td>\n",
       "      <td>great for beginner or experienced person. Boug...</td>\n",
       "      <td>very fast</td>\n",
       "      <td>NaN</td>\n",
       "      <td>NaN</td>\n",
       "      <td>truman</td>\n",
       "    </tr>\n",
       "    <tr>\n",
       "      <th>2</th>\n",
       "      <td>AVqkIhwDv8e3D1O-lebb</td>\n",
       "      <td>All-New Fire HD 8 Tablet, 8 HD Display, Wi-Fi,...</td>\n",
       "      <td>B01AHB9CN2</td>\n",
       "      <td>Amazon</td>\n",
       "      <td>Electronics,iPad &amp; Tablets,All Tablets,Fire Ta...</td>\n",
       "      <td>841667104676,amazon/53004484,amazon/b01ahb9cn2...</td>\n",
       "      <td>Amazon</td>\n",
       "      <td>2017-01-13T00:00:00.000Z</td>\n",
       "      <td>2017-07-03T23:33:15Z</td>\n",
       "      <td>2017-06-07T09:04:00.000Z,2017-04-30T00:45:00.000Z</td>\n",
       "      <td>...</td>\n",
       "      <td>True</td>\n",
       "      <td>NaN</td>\n",
       "      <td>0.0</td>\n",
       "      <td>5.0</td>\n",
       "      <td>http://reviews.bestbuy.com/3545/5620406/review...</td>\n",
       "      <td>Inexpensive tablet for him to use and learn on...</td>\n",
       "      <td>Beginner tablet for our 9 year old son.</td>\n",
       "      <td>NaN</td>\n",
       "      <td>NaN</td>\n",
       "      <td>DaveZ</td>\n",
       "    </tr>\n",
       "    <tr>\n",
       "      <th>3</th>\n",
       "      <td>AVqkIhwDv8e3D1O-lebb</td>\n",
       "      <td>All-New Fire HD 8 Tablet, 8 HD Display, Wi-Fi,...</td>\n",
       "      <td>B01AHB9CN2</td>\n",
       "      <td>Amazon</td>\n",
       "      <td>Electronics,iPad &amp; Tablets,All Tablets,Fire Ta...</td>\n",
       "      <td>841667104676,amazon/53004484,amazon/b01ahb9cn2...</td>\n",
       "      <td>Amazon</td>\n",
       "      <td>2017-01-13T00:00:00.000Z</td>\n",
       "      <td>2017-07-03T23:33:15Z</td>\n",
       "      <td>2017-06-07T09:04:00.000Z,2017-04-30T00:45:00.000Z</td>\n",
       "      <td>...</td>\n",
       "      <td>True</td>\n",
       "      <td>NaN</td>\n",
       "      <td>0.0</td>\n",
       "      <td>4.0</td>\n",
       "      <td>http://reviews.bestbuy.com/3545/5620406/review...</td>\n",
       "      <td>I've had my Fire HD 8 two weeks now and I love...</td>\n",
       "      <td>Good!!!</td>\n",
       "      <td>NaN</td>\n",
       "      <td>NaN</td>\n",
       "      <td>Shacks</td>\n",
       "    </tr>\n",
       "    <tr>\n",
       "      <th>4</th>\n",
       "      <td>AVqkIhwDv8e3D1O-lebb</td>\n",
       "      <td>All-New Fire HD 8 Tablet, 8 HD Display, Wi-Fi,...</td>\n",
       "      <td>B01AHB9CN2</td>\n",
       "      <td>Amazon</td>\n",
       "      <td>Electronics,iPad &amp; Tablets,All Tablets,Fire Ta...</td>\n",
       "      <td>841667104676,amazon/53004484,amazon/b01ahb9cn2...</td>\n",
       "      <td>Amazon</td>\n",
       "      <td>2017-01-12T00:00:00.000Z</td>\n",
       "      <td>2017-07-03T23:33:15Z</td>\n",
       "      <td>2017-06-07T09:04:00.000Z,2017-04-30T00:45:00.000Z</td>\n",
       "      <td>...</td>\n",
       "      <td>True</td>\n",
       "      <td>NaN</td>\n",
       "      <td>0.0</td>\n",
       "      <td>5.0</td>\n",
       "      <td>http://reviews.bestbuy.com/3545/5620406/review...</td>\n",
       "      <td>I bought this for my grand daughter when she c...</td>\n",
       "      <td>Fantastic Tablet for kids</td>\n",
       "      <td>NaN</td>\n",
       "      <td>NaN</td>\n",
       "      <td>explore42</td>\n",
       "    </tr>\n",
       "  </tbody>\n",
       "</table>\n",
       "<p>5 rows × 21 columns</p>\n",
       "</div>"
      ],
      "text/plain": [
       "                     id                                               name  \\\n",
       "0  AVqkIhwDv8e3D1O-lebb  All-New Fire HD 8 Tablet, 8 HD Display, Wi-Fi,...   \n",
       "1  AVqkIhwDv8e3D1O-lebb  All-New Fire HD 8 Tablet, 8 HD Display, Wi-Fi,...   \n",
       "2  AVqkIhwDv8e3D1O-lebb  All-New Fire HD 8 Tablet, 8 HD Display, Wi-Fi,...   \n",
       "3  AVqkIhwDv8e3D1O-lebb  All-New Fire HD 8 Tablet, 8 HD Display, Wi-Fi,...   \n",
       "4  AVqkIhwDv8e3D1O-lebb  All-New Fire HD 8 Tablet, 8 HD Display, Wi-Fi,...   \n",
       "\n",
       "        asins   brand                                         categories  \\\n",
       "0  B01AHB9CN2  Amazon  Electronics,iPad & Tablets,All Tablets,Fire Ta...   \n",
       "1  B01AHB9CN2  Amazon  Electronics,iPad & Tablets,All Tablets,Fire Ta...   \n",
       "2  B01AHB9CN2  Amazon  Electronics,iPad & Tablets,All Tablets,Fire Ta...   \n",
       "3  B01AHB9CN2  Amazon  Electronics,iPad & Tablets,All Tablets,Fire Ta...   \n",
       "4  B01AHB9CN2  Amazon  Electronics,iPad & Tablets,All Tablets,Fire Ta...   \n",
       "\n",
       "                                                keys manufacturer  \\\n",
       "0  841667104676,amazon/53004484,amazon/b01ahb9cn2...       Amazon   \n",
       "1  841667104676,amazon/53004484,amazon/b01ahb9cn2...       Amazon   \n",
       "2  841667104676,amazon/53004484,amazon/b01ahb9cn2...       Amazon   \n",
       "3  841667104676,amazon/53004484,amazon/b01ahb9cn2...       Amazon   \n",
       "4  841667104676,amazon/53004484,amazon/b01ahb9cn2...       Amazon   \n",
       "\n",
       "               reviews.date     reviews.dateAdded  \\\n",
       "0  2017-01-13T00:00:00.000Z  2017-07-03T23:33:15Z   \n",
       "1  2017-01-13T00:00:00.000Z  2017-07-03T23:33:15Z   \n",
       "2  2017-01-13T00:00:00.000Z  2017-07-03T23:33:15Z   \n",
       "3  2017-01-13T00:00:00.000Z  2017-07-03T23:33:15Z   \n",
       "4  2017-01-12T00:00:00.000Z  2017-07-03T23:33:15Z   \n",
       "\n",
       "                                    reviews.dateSeen        ...         \\\n",
       "0  2017-06-07T09:04:00.000Z,2017-04-30T00:45:00.000Z        ...          \n",
       "1  2017-06-07T09:04:00.000Z,2017-04-30T00:45:00.000Z        ...          \n",
       "2  2017-06-07T09:04:00.000Z,2017-04-30T00:45:00.000Z        ...          \n",
       "3  2017-06-07T09:04:00.000Z,2017-04-30T00:45:00.000Z        ...          \n",
       "4  2017-06-07T09:04:00.000Z,2017-04-30T00:45:00.000Z        ...          \n",
       "\n",
       "  reviews.doRecommend reviews.id  reviews.numHelpful  reviews.rating  \\\n",
       "0                True        NaN                 0.0             5.0   \n",
       "1                True        NaN                 0.0             5.0   \n",
       "2                True        NaN                 0.0             5.0   \n",
       "3                True        NaN                 0.0             4.0   \n",
       "4                True        NaN                 0.0             5.0   \n",
       "\n",
       "                                  reviews.sourceURLs  \\\n",
       "0  http://reviews.bestbuy.com/3545/5620406/review...   \n",
       "1  http://reviews.bestbuy.com/3545/5620406/review...   \n",
       "2  http://reviews.bestbuy.com/3545/5620406/review...   \n",
       "3  http://reviews.bestbuy.com/3545/5620406/review...   \n",
       "4  http://reviews.bestbuy.com/3545/5620406/review...   \n",
       "\n",
       "                                        reviews.text  \\\n",
       "0  This product so far has not disappointed. My c...   \n",
       "1  great for beginner or experienced person. Boug...   \n",
       "2  Inexpensive tablet for him to use and learn on...   \n",
       "3  I've had my Fire HD 8 two weeks now and I love...   \n",
       "4  I bought this for my grand daughter when she c...   \n",
       "\n",
       "                             reviews.title reviews.userCity  \\\n",
       "0                                   Kindle              NaN   \n",
       "1                                very fast              NaN   \n",
       "2  Beginner tablet for our 9 year old son.              NaN   \n",
       "3                                  Good!!!              NaN   \n",
       "4                Fantastic Tablet for kids              NaN   \n",
       "\n",
       "   reviews.userProvince  reviews.username  \n",
       "0                   NaN           Adapter  \n",
       "1                   NaN            truman  \n",
       "2                   NaN             DaveZ  \n",
       "3                   NaN            Shacks  \n",
       "4                   NaN         explore42  \n",
       "\n",
       "[5 rows x 21 columns]"
      ]
     },
     "execution_count": 4,
     "metadata": {},
     "output_type": "execute_result"
    }
   ],
   "source": [
    "data.head(5)"
   ]
  },
  {
   "cell_type": "code",
   "execution_count": 5,
   "metadata": {
    "scrolled": true
   },
   "outputs": [
    {
     "data": {
      "text/html": [
       "<div>\n",
       "<style scoped>\n",
       "    .dataframe tbody tr th:only-of-type {\n",
       "        vertical-align: middle;\n",
       "    }\n",
       "\n",
       "    .dataframe tbody tr th {\n",
       "        vertical-align: top;\n",
       "    }\n",
       "\n",
       "    .dataframe thead th {\n",
       "        text-align: right;\n",
       "    }\n",
       "</style>\n",
       "<table border=\"1\" class=\"dataframe\">\n",
       "  <thead>\n",
       "    <tr style=\"text-align: right;\">\n",
       "      <th></th>\n",
       "      <th>reviews.id</th>\n",
       "      <th>reviews.numHelpful</th>\n",
       "      <th>reviews.rating</th>\n",
       "      <th>reviews.userCity</th>\n",
       "      <th>reviews.userProvince</th>\n",
       "    </tr>\n",
       "  </thead>\n",
       "  <tbody>\n",
       "    <tr>\n",
       "      <th>count</th>\n",
       "      <td>1.0</td>\n",
       "      <td>34131.000000</td>\n",
       "      <td>34627.000000</td>\n",
       "      <td>0.0</td>\n",
       "      <td>0.0</td>\n",
       "    </tr>\n",
       "    <tr>\n",
       "      <th>mean</th>\n",
       "      <td>111372787.0</td>\n",
       "      <td>0.630248</td>\n",
       "      <td>4.584573</td>\n",
       "      <td>NaN</td>\n",
       "      <td>NaN</td>\n",
       "    </tr>\n",
       "    <tr>\n",
       "      <th>std</th>\n",
       "      <td>NaN</td>\n",
       "      <td>13.215775</td>\n",
       "      <td>0.735653</td>\n",
       "      <td>NaN</td>\n",
       "      <td>NaN</td>\n",
       "    </tr>\n",
       "    <tr>\n",
       "      <th>min</th>\n",
       "      <td>111372787.0</td>\n",
       "      <td>0.000000</td>\n",
       "      <td>1.000000</td>\n",
       "      <td>NaN</td>\n",
       "      <td>NaN</td>\n",
       "    </tr>\n",
       "    <tr>\n",
       "      <th>25%</th>\n",
       "      <td>111372787.0</td>\n",
       "      <td>0.000000</td>\n",
       "      <td>4.000000</td>\n",
       "      <td>NaN</td>\n",
       "      <td>NaN</td>\n",
       "    </tr>\n",
       "    <tr>\n",
       "      <th>50%</th>\n",
       "      <td>111372787.0</td>\n",
       "      <td>0.000000</td>\n",
       "      <td>5.000000</td>\n",
       "      <td>NaN</td>\n",
       "      <td>NaN</td>\n",
       "    </tr>\n",
       "    <tr>\n",
       "      <th>75%</th>\n",
       "      <td>111372787.0</td>\n",
       "      <td>0.000000</td>\n",
       "      <td>5.000000</td>\n",
       "      <td>NaN</td>\n",
       "      <td>NaN</td>\n",
       "    </tr>\n",
       "    <tr>\n",
       "      <th>max</th>\n",
       "      <td>111372787.0</td>\n",
       "      <td>814.000000</td>\n",
       "      <td>5.000000</td>\n",
       "      <td>NaN</td>\n",
       "      <td>NaN</td>\n",
       "    </tr>\n",
       "  </tbody>\n",
       "</table>\n",
       "</div>"
      ],
      "text/plain": [
       "        reviews.id  reviews.numHelpful  reviews.rating  reviews.userCity  \\\n",
       "count          1.0        34131.000000    34627.000000               0.0   \n",
       "mean   111372787.0            0.630248        4.584573               NaN   \n",
       "std            NaN           13.215775        0.735653               NaN   \n",
       "min    111372787.0            0.000000        1.000000               NaN   \n",
       "25%    111372787.0            0.000000        4.000000               NaN   \n",
       "50%    111372787.0            0.000000        5.000000               NaN   \n",
       "75%    111372787.0            0.000000        5.000000               NaN   \n",
       "max    111372787.0          814.000000        5.000000               NaN   \n",
       "\n",
       "       reviews.userProvince  \n",
       "count                   0.0  \n",
       "mean                    NaN  \n",
       "std                     NaN  \n",
       "min                     NaN  \n",
       "25%                     NaN  \n",
       "50%                     NaN  \n",
       "75%                     NaN  \n",
       "max                     NaN  "
      ]
     },
     "execution_count": 5,
     "metadata": {},
     "output_type": "execute_result"
    }
   ],
   "source": [
    "data.describe()"
   ]
  },
  {
   "cell_type": "code",
   "execution_count": 11,
   "metadata": {},
   "outputs": [
    {
     "data": {
      "text/plain": [
       "array(['This product so far has not disappointed. My children love to use it and I like the ability to monitor control what content they see with ease.',\n",
       "       'great for beginner or experienced person. Bought as a gift and she loves it',\n",
       "       'Inexpensive tablet for him to use and learn on, step up from the NABI. He was thrilled with it, learn how to Skype on it already...',\n",
       "       ...,\n",
       "       \"Love my Kindle Fire but I am really disappointed in the Kindle Power Fast Charging Unit. I've had it two months and I've used it many times - The first two times it worked okay but failerd on the third and many subsequent tries. I've disposed of it and use my wife's iPad Nano charger which always works just fine.\",\n",
       "       \"I was surprised to find it did not come with any type of charging cords so I had to purchase one and then found my Sprint HTC 3D charger is faster. I would not purchase again- 1st item I've ever not liked I've purchased from Amazon\",\n",
       "       \"to spite the fact that i have nothing but good things to say about amazon and anthing i've ever gotten from them. and that i love my fire. i find it greedy that the wall charger doesn't come with the kindle. not everyone, ok most people, but still not everyone has a usb port to plug into. i'm taking my charger back. i think amazon should make things right and let anyone who purchased a kindle without a charger have one for free, or credit those who had to buy one.\"],\n",
       "      dtype=object)"
      ]
     },
     "execution_count": 11,
     "metadata": {},
     "output_type": "execute_result"
    }
   ],
   "source": [
    "data['reviews.text'].unique()"
   ]
  },
  {
   "cell_type": "code",
   "execution_count": 12,
   "metadata": {
    "scrolled": false
   },
   "outputs": [
    {
     "data": {
      "text/html": [
       "<div>\n",
       "<style scoped>\n",
       "    .dataframe tbody tr th:only-of-type {\n",
       "        vertical-align: middle;\n",
       "    }\n",
       "\n",
       "    .dataframe tbody tr th {\n",
       "        vertical-align: top;\n",
       "    }\n",
       "\n",
       "    .dataframe thead th {\n",
       "        text-align: right;\n",
       "    }\n",
       "</style>\n",
       "<table border=\"1\" class=\"dataframe\">\n",
       "  <thead>\n",
       "    <tr style=\"text-align: right;\">\n",
       "      <th></th>\n",
       "      <th>name</th>\n",
       "      <th>categories</th>\n",
       "      <th>reviews.doRecommend</th>\n",
       "      <th>reviews.rating</th>\n",
       "      <th>reviews.text</th>\n",
       "      <th>reviews.title</th>\n",
       "    </tr>\n",
       "  </thead>\n",
       "  <tbody>\n",
       "    <tr>\n",
       "      <th>0</th>\n",
       "      <td>All-New Fire HD 8 Tablet, 8 HD Display, Wi-Fi,...</td>\n",
       "      <td>Electronics,iPad &amp; Tablets,All Tablets,Fire Ta...</td>\n",
       "      <td>True</td>\n",
       "      <td>5.0</td>\n",
       "      <td>This product so far has not disappointed. My c...</td>\n",
       "      <td>Kindle</td>\n",
       "    </tr>\n",
       "    <tr>\n",
       "      <th>1</th>\n",
       "      <td>All-New Fire HD 8 Tablet, 8 HD Display, Wi-Fi,...</td>\n",
       "      <td>Electronics,iPad &amp; Tablets,All Tablets,Fire Ta...</td>\n",
       "      <td>True</td>\n",
       "      <td>5.0</td>\n",
       "      <td>great for beginner or experienced person. Boug...</td>\n",
       "      <td>very fast</td>\n",
       "    </tr>\n",
       "    <tr>\n",
       "      <th>2</th>\n",
       "      <td>All-New Fire HD 8 Tablet, 8 HD Display, Wi-Fi,...</td>\n",
       "      <td>Electronics,iPad &amp; Tablets,All Tablets,Fire Ta...</td>\n",
       "      <td>True</td>\n",
       "      <td>5.0</td>\n",
       "      <td>Inexpensive tablet for him to use and learn on...</td>\n",
       "      <td>Beginner tablet for our 9 year old son.</td>\n",
       "    </tr>\n",
       "    <tr>\n",
       "      <th>3</th>\n",
       "      <td>All-New Fire HD 8 Tablet, 8 HD Display, Wi-Fi,...</td>\n",
       "      <td>Electronics,iPad &amp; Tablets,All Tablets,Fire Ta...</td>\n",
       "      <td>True</td>\n",
       "      <td>4.0</td>\n",
       "      <td>I've had my Fire HD 8 two weeks now and I love...</td>\n",
       "      <td>Good!!!</td>\n",
       "    </tr>\n",
       "    <tr>\n",
       "      <th>4</th>\n",
       "      <td>All-New Fire HD 8 Tablet, 8 HD Display, Wi-Fi,...</td>\n",
       "      <td>Electronics,iPad &amp; Tablets,All Tablets,Fire Ta...</td>\n",
       "      <td>True</td>\n",
       "      <td>5.0</td>\n",
       "      <td>I bought this for my grand daughter when she c...</td>\n",
       "      <td>Fantastic Tablet for kids</td>\n",
       "    </tr>\n",
       "    <tr>\n",
       "      <th>5</th>\n",
       "      <td>All-New Fire HD 8 Tablet, 8 HD Display, Wi-Fi,...</td>\n",
       "      <td>Electronics,iPad &amp; Tablets,All Tablets,Fire Ta...</td>\n",
       "      <td>True</td>\n",
       "      <td>5.0</td>\n",
       "      <td>This amazon fire 8 inch tablet is the perfect ...</td>\n",
       "      <td>Just what we expected</td>\n",
       "    </tr>\n",
       "    <tr>\n",
       "      <th>6</th>\n",
       "      <td>All-New Fire HD 8 Tablet, 8 HD Display, Wi-Fi,...</td>\n",
       "      <td>Electronics,iPad &amp; Tablets,All Tablets,Fire Ta...</td>\n",
       "      <td>True</td>\n",
       "      <td>4.0</td>\n",
       "      <td>Great for e-reading on the go, nice and light ...</td>\n",
       "      <td>great e-reader tablet</td>\n",
       "    </tr>\n",
       "    <tr>\n",
       "      <th>7</th>\n",
       "      <td>All-New Fire HD 8 Tablet, 8 HD Display, Wi-Fi,...</td>\n",
       "      <td>Electronics,iPad &amp; Tablets,All Tablets,Fire Ta...</td>\n",
       "      <td>True</td>\n",
       "      <td>5.0</td>\n",
       "      <td>I gave this as a Christmas gift to my inlaws, ...</td>\n",
       "      <td>Great for gifts</td>\n",
       "    </tr>\n",
       "    <tr>\n",
       "      <th>8</th>\n",
       "      <td>All-New Fire HD 8 Tablet, 8 HD Display, Wi-Fi,...</td>\n",
       "      <td>Electronics,iPad &amp; Tablets,All Tablets,Fire Ta...</td>\n",
       "      <td>True</td>\n",
       "      <td>5.0</td>\n",
       "      <td>Great as a device to read books. I like that i...</td>\n",
       "      <td>Great for reading</td>\n",
       "    </tr>\n",
       "    <tr>\n",
       "      <th>9</th>\n",
       "      <td>All-New Fire HD 8 Tablet, 8 HD Display, Wi-Fi,...</td>\n",
       "      <td>Electronics,iPad &amp; Tablets,All Tablets,Fire Ta...</td>\n",
       "      <td>True</td>\n",
       "      <td>5.0</td>\n",
       "      <td>I love ordering books and reading them with th...</td>\n",
       "      <td>Great and lightweight reader</td>\n",
       "    </tr>\n",
       "  </tbody>\n",
       "</table>\n",
       "</div>"
      ],
      "text/plain": [
       "                                                name  \\\n",
       "0  All-New Fire HD 8 Tablet, 8 HD Display, Wi-Fi,...   \n",
       "1  All-New Fire HD 8 Tablet, 8 HD Display, Wi-Fi,...   \n",
       "2  All-New Fire HD 8 Tablet, 8 HD Display, Wi-Fi,...   \n",
       "3  All-New Fire HD 8 Tablet, 8 HD Display, Wi-Fi,...   \n",
       "4  All-New Fire HD 8 Tablet, 8 HD Display, Wi-Fi,...   \n",
       "5  All-New Fire HD 8 Tablet, 8 HD Display, Wi-Fi,...   \n",
       "6  All-New Fire HD 8 Tablet, 8 HD Display, Wi-Fi,...   \n",
       "7  All-New Fire HD 8 Tablet, 8 HD Display, Wi-Fi,...   \n",
       "8  All-New Fire HD 8 Tablet, 8 HD Display, Wi-Fi,...   \n",
       "9  All-New Fire HD 8 Tablet, 8 HD Display, Wi-Fi,...   \n",
       "\n",
       "                                          categories reviews.doRecommend  \\\n",
       "0  Electronics,iPad & Tablets,All Tablets,Fire Ta...                True   \n",
       "1  Electronics,iPad & Tablets,All Tablets,Fire Ta...                True   \n",
       "2  Electronics,iPad & Tablets,All Tablets,Fire Ta...                True   \n",
       "3  Electronics,iPad & Tablets,All Tablets,Fire Ta...                True   \n",
       "4  Electronics,iPad & Tablets,All Tablets,Fire Ta...                True   \n",
       "5  Electronics,iPad & Tablets,All Tablets,Fire Ta...                True   \n",
       "6  Electronics,iPad & Tablets,All Tablets,Fire Ta...                True   \n",
       "7  Electronics,iPad & Tablets,All Tablets,Fire Ta...                True   \n",
       "8  Electronics,iPad & Tablets,All Tablets,Fire Ta...                True   \n",
       "9  Electronics,iPad & Tablets,All Tablets,Fire Ta...                True   \n",
       "\n",
       "   reviews.rating                                       reviews.text  \\\n",
       "0             5.0  This product so far has not disappointed. My c...   \n",
       "1             5.0  great for beginner or experienced person. Boug...   \n",
       "2             5.0  Inexpensive tablet for him to use and learn on...   \n",
       "3             4.0  I've had my Fire HD 8 two weeks now and I love...   \n",
       "4             5.0  I bought this for my grand daughter when she c...   \n",
       "5             5.0  This amazon fire 8 inch tablet is the perfect ...   \n",
       "6             4.0  Great for e-reading on the go, nice and light ...   \n",
       "7             5.0  I gave this as a Christmas gift to my inlaws, ...   \n",
       "8             5.0  Great as a device to read books. I like that i...   \n",
       "9             5.0  I love ordering books and reading them with th...   \n",
       "\n",
       "                             reviews.title  \n",
       "0                                   Kindle  \n",
       "1                                very fast  \n",
       "2  Beginner tablet for our 9 year old son.  \n",
       "3                                  Good!!!  \n",
       "4                Fantastic Tablet for kids  \n",
       "5                    Just what we expected  \n",
       "6                    great e-reader tablet  \n",
       "7                          Great for gifts  \n",
       "8                        Great for reading  \n",
       "9             Great and lightweight reader  "
      ]
     },
     "execution_count": 12,
     "metadata": {},
     "output_type": "execute_result"
    }
   ],
   "source": [
    "data = data[['name', 'categories', 'reviews.doRecommend', 'reviews.rating', 'reviews.text', 'reviews.title']]\n",
    "\n",
    "data.head(10)"
   ]
  },
  {
   "cell_type": "code",
   "execution_count": 13,
   "metadata": {},
   "outputs": [
    {
     "data": {
      "text/plain": [
       "0        This product so far has not disappointed. My c...\n",
       "1        great for beginner or experienced person. Boug...\n",
       "2        Inexpensive tablet for him to use and learn on...\n",
       "3        I've had my Fire HD 8 two weeks now and I love...\n",
       "4        I bought this for my grand daughter when she c...\n",
       "5        This amazon fire 8 inch tablet is the perfect ...\n",
       "6        Great for e-reading on the go, nice and light ...\n",
       "7        I gave this as a Christmas gift to my inlaws, ...\n",
       "8        Great as a device to read books. I like that i...\n",
       "9        I love ordering books and reading them with th...\n",
       "10       Not easy for elderly users cease of ads that p...\n",
       "11       Excellent product. Easy to use, large screen m...\n",
       "12       Wanted my father to have his first tablet and ...\n",
       "13       Simply does everything I need. Thank youAnd si...\n",
       "14       Got it as a present and love the size of the s...\n",
       "15       The kindle is easiest to use, graphics and scr...\n",
       "16       nice reader. almost perfect for what i want/ne...\n",
       "17       I really like this tablet. I would have given ...\n",
       "18       Great video quality lots of fun apps fun for t...\n",
       "19       Love love love my kindle fire 8.....this is wh...\n",
       "20       Excellent tablet with nice screen. I wish Amaz...\n",
       "21       Preloaded with the reading app from Kindle but...\n",
       "22       Very happy with this product and easy to use.....\n",
       "23       My grandchildren are home schooled and utilize...\n",
       "24       Great size, easy to carry for traveling. Need ...\n",
       "25       I purchased this when my last tablet died. It ...\n",
       "26       Perfect for downloading and reading books !! P...\n",
       "27       I was surprised when I learned of the capabili...\n",
       "28       I got it for my son. Its user friendly and dur...\n",
       "29       The visual quality on the Fire 8 HD is amazing...\n",
       "                               ...                        \n",
       "34630    My new Kindle DX2 graphite came yesterday and ...\n",
       "34631    This cover is made for the Kindle DX and fits ...\n",
       "34632    I have several covers, from simple rubber cove...\n",
       "34633    The reason people give it 5 stars is because t...\n",
       "34634    This cover is a must have for your Kindle read...\n",
       "34635    I have this cover in black and my cover does i...\n",
       "34636    I found this cover to be quite handsome in app...\n",
       "34637    I, as well as other Kindle lovers, have notice...\n",
       "34638    This cover is a replacement for the initial co...\n",
       "34639    Having recently received a Kindle Fire HD as a...\n",
       "34640    Surpassed my expectations it charges faster th...\n",
       "34641    Amazon already includes this cable with the Ki...\n",
       "34642    I bought this for myself because i play my kin...\n",
       "34643    This cord works great! I also love that it is ...\n",
       "34644    Corrected the problem with the kindle not char...\n",
       "34645    Works well with all Kindle models, either as a...\n",
       "34646    I have only used it one time to download an e-...\n",
       "34647    Excellent charging quality with heavy duty cor...\n",
       "34648    This charger (9W) rapid charger is as describe...\n",
       "34649    just what i expected and just what I wanted. t...\n",
       "34650    Although the description states that this will...\n",
       "34651                                     Connects snugly!\n",
       "34652    So I was already not too pleased with Amazon's...\n",
       "34653    As a charger, it works but is nothing special....\n",
       "34654    This is exactly like any other usb power charg...\n",
       "34655    This is not appreciably faster than any other ...\n",
       "34656    Amazon should include this charger with the Ki...\n",
       "34657    Love my Kindle Fire but I am really disappoint...\n",
       "34658    I was surprised to find it did not come with a...\n",
       "34659    to spite the fact that i have nothing but good...\n",
       "Name: reviews.text, Length: 34660, dtype: object"
      ]
     },
     "execution_count": 13,
     "metadata": {},
     "output_type": "execute_result"
    }
   ],
   "source": [
    "data['reviews.text']"
   ]
  },
  {
   "cell_type": "code",
   "execution_count": 14,
   "metadata": {},
   "outputs": [
    {
     "name": "stderr",
     "output_type": "stream",
     "text": [
      "/home/aaron/.local/lib/python3.6/site-packages/ipykernel_launcher.py:1: SettingWithCopyWarning: \n",
      "A value is trying to be set on a copy of a slice from a DataFrame.\n",
      "Try using .loc[row_indexer,col_indexer] = value instead\n",
      "\n",
      "See the caveats in the documentation: http://pandas.pydata.org/pandas-docs/stable/indexing.html#indexing-view-versus-copy\n",
      "  \"\"\"Entry point for launching an IPython kernel.\n"
     ]
    },
    {
     "data": {
      "text/plain": [
       "0        this product so far has not disappointed. my c...\n",
       "1        great for beginner or experienced person. boug...\n",
       "2        inexpensive tablet for him to use and learn on...\n",
       "3        i've had my fire hd 8 two weeks now and i love...\n",
       "4        i bought this for my grand daughter when she c...\n",
       "5        this amazon fire 8 inch tablet is the perfect ...\n",
       "6        great for ereading on the go nice and light we...\n",
       "7        i gave this as a christmas gift to my inlaws h...\n",
       "8        great as a device to read books. i like that i...\n",
       "9        i love ordering books and reading them with th...\n",
       "10       not easy for elderly users cease of ads that p...\n",
       "11       excellent product. easy to use large screen ma...\n",
       "12       wanted my father to have his first tablet and ...\n",
       "13       simply does everything i need. thank youand si...\n",
       "14       got it as a present and love the size of the s...\n",
       "15       the kindle is easiest to use graphics and scre...\n",
       "16       nice reader. almost perfect for what i want/ne...\n",
       "17       i really like this tablet. i would have given ...\n",
       "18       great video quality lots of fun apps fun for t...\n",
       "19       love love love my kindle fire 8.....this is wh...\n",
       "20       excellent tablet with nice screen. i wish amaz...\n",
       "21       preloaded with the reading app from kindle but...\n",
       "22       very happy with this product and easy to use.....\n",
       "23       my grandchildren are home schooled and utilize...\n",
       "24       great size easy to carry for traveling. need t...\n",
       "25       i purchased this when my last tablet died. it ...\n",
       "26       perfect for downloading and reading books !! p...\n",
       "27       i was surprised when i learned of the capabili...\n",
       "28       i got it for my son. its user friendly and dur...\n",
       "29       the visual quality on the fire 8 hd is amazing...\n",
       "                               ...                        \n",
       "34630    my new kindle dx2 graphite came yesterday and ...\n",
       "34631    this cover is made for the kindle dx and fits ...\n",
       "34632    i have several covers from simple rubber cover...\n",
       "34633    the reason people give it 5 stars is because t...\n",
       "34634    this cover is a must have for your kindle read...\n",
       "34635    i have this cover in black and my cover does i...\n",
       "34636    i found this cover to be quite handsome in app...\n",
       "34637    i as well as other kindle lovers have noticed ...\n",
       "34638    this cover is a replacement for the initial co...\n",
       "34639    having recently received a kindle fire hd as a...\n",
       "34640    surpassed my expectations it charges faster th...\n",
       "34641    amazon already includes this cable with the ki...\n",
       "34642    i bought this for myself because i play my kin...\n",
       "34643    this cord works great! i also love that it is ...\n",
       "34644    corrected the problem with the kindle not char...\n",
       "34645    works well with all kindle models either as a ...\n",
       "34646    i have only used it one time to download an eb...\n",
       "34647    excellent charging quality with heavy duty cor...\n",
       "34648    this charger 9w rapid charger is as described....\n",
       "34649    just what i expected and just what i wanted. t...\n",
       "34650    although the description states that this will...\n",
       "34651                                     connects snugly!\n",
       "34652    so i was already not too pleased with amazon's...\n",
       "34653    as a charger it works but is nothing special. ...\n",
       "34654    this is exactly like any other usb power charg...\n",
       "34655    this is not appreciably faster than any other ...\n",
       "34656    amazon should include this charger with the ki...\n",
       "34657    love my kindle fire but i am really disappoint...\n",
       "34658    i was surprised to find it did not come with a...\n",
       "34659    to spite the fact that i have nothing but good...\n",
       "Name: reviews.text, Length: 34660, dtype: object"
      ]
     },
     "execution_count": 14,
     "metadata": {},
     "output_type": "execute_result"
    }
   ],
   "source": [
    "data['reviews.text'] = data['reviews.text'].str.lower().str.replace('-','').str.replace('(','').str.replace(')','').str.replace('  ','').str.replace(',','')\n",
    "\n",
    "data['reviews.text']"
   ]
  },
  {
   "cell_type": "markdown",
   "metadata": {},
   "source": [
    "## Tokenisation"
   ]
  },
  {
   "cell_type": "code",
   "execution_count": 15,
   "metadata": {},
   "outputs": [
    {
     "name": "stderr",
     "output_type": "stream",
     "text": [
      "[nltk_data] Downloading package punkt to /home/aaron/nltk_data...\n",
      "[nltk_data]   Package punkt is already up-to-date!\n"
     ]
    },
    {
     "data": {
      "text/plain": [
       "True"
      ]
     },
     "execution_count": 15,
     "metadata": {},
     "output_type": "execute_result"
    }
   ],
   "source": [
    "import nltk\n",
    "nltk.download('punkt')"
   ]
  },
  {
   "cell_type": "code",
   "execution_count": 19,
   "metadata": {},
   "outputs": [
    {
     "data": {
      "text/plain": [
       "['This is a tokenization lecture.',\n",
       " 'bobatea is awesome.',\n",
       " 'awesome is bobatea.']"
      ]
     },
     "execution_count": 19,
     "metadata": {},
     "output_type": "execute_result"
    }
   ],
   "source": [
    "sentence_splitter = nltk.data.load('tokenizers/punkt/english.pickle')\n",
    "sentence_splitter.tokenize(\"This is a tokenization lecture. bobatea is awesome. awesome is bobatea.\")"
   ]
  },
  {
   "cell_type": "code",
   "execution_count": 20,
   "metadata": {},
   "outputs": [
    {
     "data": {
      "text/plain": [
       "['This', 'is', 'a', 'tokenization', 'lecture', 'using', 'word', 'treebank']"
      ]
     },
     "execution_count": 20,
     "metadata": {},
     "output_type": "execute_result"
    }
   ],
   "source": [
    "from nltk.tokenize import TreebankWordTokenizer\n",
    "\n",
    "tokenizer = TreebankWordTokenizer()\n",
    "tokenizer.tokenize(\"This is a tokenization lecture using word treebank\")"
   ]
  },
  {
   "cell_type": "code",
   "execution_count": 21,
   "metadata": {},
   "outputs": [
    {
     "data": {
      "text/plain": [
       "['This',\n",
       " 'is',\n",
       " 'a',\n",
       " 'tokenization',\n",
       " 'lecture',\n",
       " 'using',\n",
       " 'regular',\n",
       " 'expressions']"
      ]
     },
     "execution_count": 21,
     "metadata": {},
     "output_type": "execute_result"
    }
   ],
   "source": [
    "from nltk.tokenize import RegexpTokenizer \n",
    "  \n",
    "tokenizer = RegexpTokenizer(\"[\\w']+\") \n",
    "text = \"This is a tokenization lecture using regular expressions.\"\n",
    "tokenizer.tokenize(text) "
   ]
  },
  {
   "cell_type": "code",
   "execution_count": 22,
   "metadata": {},
   "outputs": [
    {
     "data": {
      "text/plain": [
       "['This',\n",
       " 'is',\n",
       " 'a',\n",
       " 'tokenization',\n",
       " 'lecture',\n",
       " 'using',\n",
       " 'word',\n",
       " 'punctuations',\n",
       " '.']"
      ]
     },
     "execution_count": 22,
     "metadata": {},
     "output_type": "execute_result"
    }
   ],
   "source": [
    "from nltk.tokenize import WordPunctTokenizer \n",
    "\n",
    "tokenizer = WordPunctTokenizer() \n",
    "tokenizer.tokenize(\"This is a tokenization lecture using word punctuations.\") "
   ]
  },
  {
   "cell_type": "code",
   "execution_count": 26,
   "metadata": {},
   "outputs": [
    {
     "data": {
      "text/plain": [
       "['this',\n",
       " 'product',\n",
       " 'so',\n",
       " 'far',\n",
       " 'has',\n",
       " 'not',\n",
       " 'disappointed',\n",
       " '.',\n",
       " 'my',\n",
       " 'children',\n",
       " 'love',\n",
       " 'to',\n",
       " 'use',\n",
       " 'it',\n",
       " 'and',\n",
       " 'i',\n",
       " 'like',\n",
       " 'the',\n",
       " 'ability',\n",
       " 'to',\n",
       " 'monitor',\n",
       " 'control',\n",
       " 'what',\n",
       " 'content',\n",
       " 'they',\n",
       " 'see',\n",
       " 'with',\n",
       " 'ease',\n",
       " '.']"
      ]
     },
     "execution_count": 26,
     "metadata": {},
     "output_type": "execute_result"
    }
   ],
   "source": [
    "tokenized_data_row_1 = tokenizer.tokenize(data['reviews.text'][0])\n",
    "\n",
    "tokenized_data_row_1"
   ]
  },
  {
   "cell_type": "markdown",
   "metadata": {},
   "source": [
    "## Stemming "
   ]
  },
  {
   "cell_type": "code",
   "execution_count": 28,
   "metadata": {},
   "outputs": [],
   "source": [
    "from nltk.stem import PorterStemmer\n",
    "porter = PorterStemmer()"
   ]
  },
  {
   "cell_type": "code",
   "execution_count": 29,
   "metadata": {},
   "outputs": [
    {
     "name": "stdout",
     "output_type": "stream",
     "text": [
      "cat\n",
      "troubl\n",
      "troubl\n",
      "troubl\n"
     ]
    }
   ],
   "source": [
    "print(porter.stem(\"cats\"))\n",
    "print(porter.stem(\"trouble\"))\n",
    "print(porter.stem(\"troubling\"))\n",
    "print(porter.stem(\"troubled\"))"
   ]
  },
  {
   "cell_type": "code",
   "execution_count": 34,
   "metadata": {},
   "outputs": [],
   "source": [
    "sentence=\"Pythoners are very intelligent and work very pythonly and now they are pythoning their way to success.\""
   ]
  },
  {
   "cell_type": "code",
   "execution_count": 35,
   "metadata": {},
   "outputs": [
    {
     "name": "stdout",
     "output_type": "stream",
     "text": [
      "python are veri intellig and work veri pythonli and now they are python their way to success . \n"
     ]
    }
   ],
   "source": [
    "from nltk.tokenize import sent_tokenize, word_tokenize\n",
    "\n",
    "def stemSentence(sentence):\n",
    "    token_words=word_tokenize(sentence)\n",
    "    token_words\n",
    "    stem_sentence=[]\n",
    "    for word in token_words:\n",
    "        stem_sentence.append(porter.stem(word))\n",
    "        stem_sentence.append(\" \")\n",
    "    return \"\".join(stem_sentence)\n",
    "\n",
    "x=stemSentence(sentence)\n",
    "print(x)"
   ]
  },
  {
   "cell_type": "markdown",
   "metadata": {},
   "source": [
    "#### Try it on the dataset "
   ]
  },
  {
   "cell_type": "code",
   "execution_count": 36,
   "metadata": {},
   "outputs": [
    {
     "data": {
      "text/plain": [
       "'thi product so far ha not disappoint . my children love to use it and i like the abil to monitor control what content they see with eas . '"
      ]
     },
     "execution_count": 36,
     "metadata": {},
     "output_type": "execute_result"
    }
   ],
   "source": [
    "x=stemSentence(data['reviews.text'][0])\n",
    "\n",
    "x"
   ]
  },
  {
   "cell_type": "markdown",
   "metadata": {},
   "source": [
    "## Lemmatisation "
   ]
  },
  {
   "cell_type": "code",
   "execution_count": 37,
   "metadata": {},
   "outputs": [],
   "source": [
    "from nltk.stem import WordNetLemmatizer\n",
    "\n",
    "wordnet_lemmatizer = WordNetLemmatizer()"
   ]
  },
  {
   "cell_type": "code",
   "execution_count": 38,
   "metadata": {},
   "outputs": [
    {
     "name": "stdout",
     "output_type": "stream",
     "text": [
      "Word                Lemma               \n",
      "\n",
      "He                  He                  \n",
      "was                 be                  \n",
      "running             run                 \n",
      "and                 and                 \n",
      "eating              eat                 \n",
      "at                  at                  \n",
      "same                same                \n",
      "time                time                \n",
      "He                  He                  \n",
      "has                 have                \n",
      "bad                 bad                 \n",
      "habit               habit               \n",
      "of                  of                  \n",
      "swimming            swim                \n",
      "after               after               \n",
      "playing             play                \n",
      "long                long                \n",
      "hours               hours               \n",
      "in                  in                  \n",
      "the                 the                 \n",
      "Sun                 Sun                 \n"
     ]
    }
   ],
   "source": [
    "sentence = \"He was running and eating at same time. He has bad habit of swimming after playing long hours in the Sun.\"\n",
    "\n",
    "punctuations=\"?:!.,;\"\n",
    "sentence_words = nltk.word_tokenize(sentence)\n",
    "for word in sentence_words:\n",
    "    if word in punctuations:\n",
    "        sentence_words.remove(word)\n",
    "\n",
    "print(\"{0:20}{1:20}\\n\".format(\"Word\",\"Lemma\"))\n",
    "\n",
    "for word in sentence_words:\n",
    "    print (\"{0:20}{1:20}\".format(word,wordnet_lemmatizer.lemmatize(word, pos=\"v\")))"
   ]
  },
  {
   "cell_type": "markdown",
   "metadata": {},
   "source": [
    "#### Try it on the dataset"
   ]
  },
  {
   "cell_type": "code",
   "execution_count": 42,
   "metadata": {},
   "outputs": [
    {
     "name": "stdout",
     "output_type": "stream",
     "text": [
      "this\n",
      "product\n",
      "so\n",
      "far\n",
      "have\n",
      "not\n",
      "disappoint\n",
      ".\n",
      "my\n",
      "children\n",
      "love\n",
      "to\n",
      "use\n",
      "it\n",
      "and\n",
      "i\n",
      "like\n",
      "the\n",
      "ability\n",
      "to\n",
      "monitor\n",
      "control\n",
      "what\n",
      "content\n",
      "they\n",
      "see\n",
      "with\n",
      "ease\n",
      ".\n"
     ]
    }
   ],
   "source": [
    "for word in tokenizer.tokenize(data['reviews.text'][0]):\n",
    "    x=wordnet_lemmatizer.lemmatize(word, pos=\"v\")\n",
    "    print(x)"
   ]
  },
  {
   "cell_type": "markdown",
   "metadata": {},
   "source": [
    "## Word Representations"
   ]
  },
  {
   "cell_type": "code",
   "execution_count": 43,
   "metadata": {},
   "outputs": [],
   "source": [
    "from sklearn.preprocessing import LabelEncoder, OneHotEncoder"
   ]
  },
  {
   "cell_type": "code",
   "execution_count": 44,
   "metadata": {},
   "outputs": [
    {
     "data": {
      "text/plain": [
       "['this',\n",
       " 'product',\n",
       " 'so',\n",
       " 'far',\n",
       " 'has',\n",
       " 'not',\n",
       " 'disappointed',\n",
       " 'my',\n",
       " 'children',\n",
       " 'love',\n",
       " 'to',\n",
       " 'use',\n",
       " 'it',\n",
       " 'and',\n",
       " 'i',\n",
       " 'like',\n",
       " 'the',\n",
       " 'ability',\n",
       " 'to',\n",
       " 'monitor',\n",
       " 'control',\n",
       " 'what',\n",
       " 'content',\n",
       " 'they',\n",
       " 'see',\n",
       " 'with',\n",
       " 'ease']"
      ]
     },
     "execution_count": 44,
     "metadata": {},
     "output_type": "execute_result"
    }
   ],
   "source": [
    "tokenizer = RegexpTokenizer(\"[\\w']+\") \n",
    "text = data['reviews.text'][0]\n",
    "texts = tokenizer.tokenize(text) \n",
    "\n",
    "texts"
   ]
  },
  {
   "cell_type": "markdown",
   "metadata": {},
   "source": [
    "### Label Encoding "
   ]
  },
  {
   "cell_type": "code",
   "execution_count": 45,
   "metadata": {},
   "outputs": [
    {
     "name": "stdout",
     "output_type": "stream",
     "text": [
      "['ability' 'and' 'children' 'content' 'control' 'disappointed' 'ease'\n",
      " 'far' 'has' 'i' 'it' 'like' 'love' 'monitor' 'my' 'not' 'product' 'see'\n",
      " 'so' 'the' 'they' 'this' 'to' 'use' 'what' 'with']\n"
     ]
    },
    {
     "data": {
      "text/plain": [
       "array([21, 16, 18,  7,  8, 15,  5, 14,  2, 12, 22, 23, 10,  1,  9, 11, 19,\n",
       "        0, 22, 13,  4, 24,  3, 20, 17, 25,  6])"
      ]
     },
     "execution_count": 45,
     "metadata": {},
     "output_type": "execute_result"
    }
   ],
   "source": [
    "le = LabelEncoder()\n",
    "transformed = le.fit_transform(texts)\n",
    "\n",
    "print(le.classes_)\n",
    "\n",
    "transformed"
   ]
  },
  {
   "cell_type": "code",
   "execution_count": 46,
   "metadata": {},
   "outputs": [
    {
     "data": {
      "text/plain": [
       "array(['this', 'product', 'so', 'far', 'has', 'not', 'disappointed', 'my',\n",
       "       'children', 'love', 'to', 'use', 'it', 'and', 'i', 'like', 'the',\n",
       "       'ability', 'to', 'monitor', 'control', 'what', 'content', 'they',\n",
       "       'see', 'with', 'ease'], dtype='<U12')"
      ]
     },
     "execution_count": 46,
     "metadata": {},
     "output_type": "execute_result"
    }
   ],
   "source": [
    "le.inverse_transform(transformed)"
   ]
  },
  {
   "cell_type": "markdown",
   "metadata": {},
   "source": [
    "### One-Hot Encoding "
   ]
  },
  {
   "cell_type": "code",
   "execution_count": 47,
   "metadata": {},
   "outputs": [
    {
     "data": {
      "text/plain": [
       "array([[0., 0., 0., 0., 0., 0., 0., 0., 0., 0., 0., 0., 0., 0., 0., 0.,\n",
       "        0., 0., 0., 0., 0., 1., 0., 0., 0., 0.],\n",
       "       [0., 0., 0., 0., 0., 0., 0., 0., 0., 0., 0., 0., 0., 0., 0., 0.,\n",
       "        1., 0., 0., 0., 0., 0., 0., 0., 0., 0.],\n",
       "       [0., 0., 0., 0., 0., 0., 0., 0., 0., 0., 0., 0., 0., 0., 0., 0.,\n",
       "        0., 0., 1., 0., 0., 0., 0., 0., 0., 0.],\n",
       "       [0., 0., 0., 0., 0., 0., 0., 1., 0., 0., 0., 0., 0., 0., 0., 0.,\n",
       "        0., 0., 0., 0., 0., 0., 0., 0., 0., 0.],\n",
       "       [0., 0., 0., 0., 0., 0., 0., 0., 1., 0., 0., 0., 0., 0., 0., 0.,\n",
       "        0., 0., 0., 0., 0., 0., 0., 0., 0., 0.],\n",
       "       [0., 0., 0., 0., 0., 0., 0., 0., 0., 0., 0., 0., 0., 0., 0., 1.,\n",
       "        0., 0., 0., 0., 0., 0., 0., 0., 0., 0.],\n",
       "       [0., 0., 0., 0., 0., 1., 0., 0., 0., 0., 0., 0., 0., 0., 0., 0.,\n",
       "        0., 0., 0., 0., 0., 0., 0., 0., 0., 0.],\n",
       "       [0., 0., 0., 0., 0., 0., 0., 0., 0., 0., 0., 0., 0., 0., 1., 0.,\n",
       "        0., 0., 0., 0., 0., 0., 0., 0., 0., 0.],\n",
       "       [0., 0., 1., 0., 0., 0., 0., 0., 0., 0., 0., 0., 0., 0., 0., 0.,\n",
       "        0., 0., 0., 0., 0., 0., 0., 0., 0., 0.],\n",
       "       [0., 0., 0., 0., 0., 0., 0., 0., 0., 0., 0., 0., 1., 0., 0., 0.,\n",
       "        0., 0., 0., 0., 0., 0., 0., 0., 0., 0.],\n",
       "       [0., 0., 0., 0., 0., 0., 0., 0., 0., 0., 0., 0., 0., 0., 0., 0.,\n",
       "        0., 0., 0., 0., 0., 0., 1., 0., 0., 0.],\n",
       "       [0., 0., 0., 0., 0., 0., 0., 0., 0., 0., 0., 0., 0., 0., 0., 0.,\n",
       "        0., 0., 0., 0., 0., 0., 0., 1., 0., 0.],\n",
       "       [0., 0., 0., 0., 0., 0., 0., 0., 0., 0., 1., 0., 0., 0., 0., 0.,\n",
       "        0., 0., 0., 0., 0., 0., 0., 0., 0., 0.],\n",
       "       [0., 1., 0., 0., 0., 0., 0., 0., 0., 0., 0., 0., 0., 0., 0., 0.,\n",
       "        0., 0., 0., 0., 0., 0., 0., 0., 0., 0.],\n",
       "       [0., 0., 0., 0., 0., 0., 0., 0., 0., 1., 0., 0., 0., 0., 0., 0.,\n",
       "        0., 0., 0., 0., 0., 0., 0., 0., 0., 0.],\n",
       "       [0., 0., 0., 0., 0., 0., 0., 0., 0., 0., 0., 1., 0., 0., 0., 0.,\n",
       "        0., 0., 0., 0., 0., 0., 0., 0., 0., 0.],\n",
       "       [0., 0., 0., 0., 0., 0., 0., 0., 0., 0., 0., 0., 0., 0., 0., 0.,\n",
       "        0., 0., 0., 1., 0., 0., 0., 0., 0., 0.],\n",
       "       [1., 0., 0., 0., 0., 0., 0., 0., 0., 0., 0., 0., 0., 0., 0., 0.,\n",
       "        0., 0., 0., 0., 0., 0., 0., 0., 0., 0.],\n",
       "       [0., 0., 0., 0., 0., 0., 0., 0., 0., 0., 0., 0., 0., 0., 0., 0.,\n",
       "        0., 0., 0., 0., 0., 0., 1., 0., 0., 0.],\n",
       "       [0., 0., 0., 0., 0., 0., 0., 0., 0., 0., 0., 0., 0., 1., 0., 0.,\n",
       "        0., 0., 0., 0., 0., 0., 0., 0., 0., 0.],\n",
       "       [0., 0., 0., 0., 1., 0., 0., 0., 0., 0., 0., 0., 0., 0., 0., 0.,\n",
       "        0., 0., 0., 0., 0., 0., 0., 0., 0., 0.],\n",
       "       [0., 0., 0., 0., 0., 0., 0., 0., 0., 0., 0., 0., 0., 0., 0., 0.,\n",
       "        0., 0., 0., 0., 0., 0., 0., 0., 1., 0.],\n",
       "       [0., 0., 0., 1., 0., 0., 0., 0., 0., 0., 0., 0., 0., 0., 0., 0.,\n",
       "        0., 0., 0., 0., 0., 0., 0., 0., 0., 0.],\n",
       "       [0., 0., 0., 0., 0., 0., 0., 0., 0., 0., 0., 0., 0., 0., 0., 0.,\n",
       "        0., 0., 0., 0., 1., 0., 0., 0., 0., 0.],\n",
       "       [0., 0., 0., 0., 0., 0., 0., 0., 0., 0., 0., 0., 0., 0., 0., 0.,\n",
       "        0., 1., 0., 0., 0., 0., 0., 0., 0., 0.],\n",
       "       [0., 0., 0., 0., 0., 0., 0., 0., 0., 0., 0., 0., 0., 0., 0., 0.,\n",
       "        0., 0., 0., 0., 0., 0., 0., 0., 0., 1.],\n",
       "       [0., 0., 0., 0., 0., 0., 1., 0., 0., 0., 0., 0., 0., 0., 0., 0.,\n",
       "        0., 0., 0., 0., 0., 0., 0., 0., 0., 0.]])"
      ]
     },
     "execution_count": 47,
     "metadata": {},
     "output_type": "execute_result"
    }
   ],
   "source": [
    "ohe = OneHotEncoder()\n",
    "transformed_onehot = ohe.fit_transform(transformed.reshape(-1,1)).toarray()\n",
    "\n",
    "transformed_onehot"
   ]
  },
  {
   "cell_type": "code",
   "execution_count": 48,
   "metadata": {},
   "outputs": [
    {
     "data": {
      "text/plain": [
       "array([[21],\n",
       "       [16],\n",
       "       [18],\n",
       "       [ 7],\n",
       "       [ 8],\n",
       "       [15],\n",
       "       [ 5],\n",
       "       [14],\n",
       "       [ 2],\n",
       "       [12],\n",
       "       [22],\n",
       "       [23],\n",
       "       [10],\n",
       "       [ 1],\n",
       "       [ 9],\n",
       "       [11],\n",
       "       [19],\n",
       "       [ 0],\n",
       "       [22],\n",
       "       [13],\n",
       "       [ 4],\n",
       "       [24],\n",
       "       [ 3],\n",
       "       [20],\n",
       "       [17],\n",
       "       [25],\n",
       "       [ 6]])"
      ]
     },
     "execution_count": 48,
     "metadata": {},
     "output_type": "execute_result"
    }
   ],
   "source": [
    "ohe.inverse_transform(transformed_onehot)"
   ]
  },
  {
   "cell_type": "code",
   "execution_count": null,
   "metadata": {},
   "outputs": [],
   "source": []
  }
 ],
 "metadata": {
  "kernelspec": {
   "display_name": "Python 3",
   "language": "python",
   "name": "python3"
  },
  "language_info": {
   "codemirror_mode": {
    "name": "ipython",
    "version": 3
   },
   "file_extension": ".py",
   "mimetype": "text/x-python",
   "name": "python",
   "nbconvert_exporter": "python",
   "pygments_lexer": "ipython3",
   "version": "3.6.9"
  }
 },
 "nbformat": 4,
 "nbformat_minor": 2
}

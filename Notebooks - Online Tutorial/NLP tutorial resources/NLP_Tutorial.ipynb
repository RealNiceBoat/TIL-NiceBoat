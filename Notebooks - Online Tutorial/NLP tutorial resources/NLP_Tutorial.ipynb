{
 "cells": [
  {
   "cell_type": "markdown",
   "metadata": {},
   "source": [
    "# Import the Dataset"
   ]
  },
  {
   "cell_type": "code",
   "execution_count": 1,
   "metadata": {},
   "outputs": [],
   "source": [
    "import pandas as pd"
   ]
  },
  {
   "cell_type": "code",
   "execution_count": 2,
   "metadata": {},
   "outputs": [
    {
     "data": {
      "text/html": [
       "<div>\n",
       "<style scoped>\n",
       "    .dataframe tbody tr th:only-of-type {\n",
       "        vertical-align: middle;\n",
       "    }\n",
       "\n",
       "    .dataframe tbody tr th {\n",
       "        vertical-align: top;\n",
       "    }\n",
       "\n",
       "    .dataframe thead th {\n",
       "        text-align: right;\n",
       "    }\n",
       "</style>\n",
       "<table border=\"1\" class=\"dataframe\">\n",
       "  <thead>\n",
       "    <tr style=\"text-align: right;\">\n",
       "      <th></th>\n",
       "      <th>description</th>\n",
       "      <th>category</th>\n",
       "    </tr>\n",
       "  </thead>\n",
       "  <tbody>\n",
       "    <tr>\n",
       "      <th>0</th>\n",
       "      <td>Sless Flippy Mini Dress</td>\n",
       "      <td>women dresses</td>\n",
       "    </tr>\n",
       "    <tr>\n",
       "      <th>1</th>\n",
       "      <td>Midi Pleated Skirt</td>\n",
       "      <td>women skirts</td>\n",
       "    </tr>\n",
       "    <tr>\n",
       "      <th>2</th>\n",
       "      <td>Stamos Mix Silk Raglan Knit Sweater</td>\n",
       "      <td>men outwear</td>\n",
       "    </tr>\n",
       "    <tr>\n",
       "      <th>3</th>\n",
       "      <td>Basic Training Tank Top</td>\n",
       "      <td>men tops</td>\n",
       "    </tr>\n",
       "    <tr>\n",
       "      <th>4</th>\n",
       "      <td>Fashion Camouflage Hooded Jacket</td>\n",
       "      <td>women outwear</td>\n",
       "    </tr>\n",
       "    <tr>\n",
       "      <th>5</th>\n",
       "      <td>Straight Leg Sweatpants</td>\n",
       "      <td>men trousers</td>\n",
       "    </tr>\n",
       "    <tr>\n",
       "      <th>6</th>\n",
       "      <td>Hooded Pull Over</td>\n",
       "      <td>men outwear</td>\n",
       "    </tr>\n",
       "    <tr>\n",
       "      <th>7</th>\n",
       "      <td>Ally 3/4 Spring Pullover</td>\n",
       "      <td>women outwear</td>\n",
       "    </tr>\n",
       "    <tr>\n",
       "      <th>8</th>\n",
       "      <td>Cropped Pleated Pants</td>\n",
       "      <td>women trousers</td>\n",
       "    </tr>\n",
       "    <tr>\n",
       "      <th>9</th>\n",
       "      <td>NB Athletics Archive Run Pants</td>\n",
       "      <td>men trousers</td>\n",
       "    </tr>\n",
       "    <tr>\n",
       "      <th>10</th>\n",
       "      <td>Lottie Paperbag Waist Shorts</td>\n",
       "      <td>women shorts</td>\n",
       "    </tr>\n",
       "    <tr>\n",
       "      <th>11</th>\n",
       "      <td>Logocon T-Shirt</td>\n",
       "      <td>men tops</td>\n",
       "    </tr>\n",
       "    <tr>\n",
       "      <th>12</th>\n",
       "      <td>Comfortable Round Neck Print T-Shirt</td>\n",
       "      <td>women outwear</td>\n",
       "    </tr>\n",
       "    <tr>\n",
       "      <th>13</th>\n",
       "      <td>Skinny Stretch Chinos</td>\n",
       "      <td>men trousers</td>\n",
       "    </tr>\n",
       "    <tr>\n",
       "      <th>14</th>\n",
       "      <td>Flag Chest Logo Sweatshirt</td>\n",
       "      <td>men outwear</td>\n",
       "    </tr>\n",
       "    <tr>\n",
       "      <th>15</th>\n",
       "      <td>Meet You There 7/8 Pants</td>\n",
       "      <td>men trousers</td>\n",
       "    </tr>\n",
       "    <tr>\n",
       "      <th>16</th>\n",
       "      <td>Chino Shorts</td>\n",
       "      <td>men shorts</td>\n",
       "    </tr>\n",
       "    <tr>\n",
       "      <th>17</th>\n",
       "      <td>Blue Crew T-Shirt</td>\n",
       "      <td>men tops</td>\n",
       "    </tr>\n",
       "    <tr>\n",
       "      <th>18</th>\n",
       "      <td>Co-Ord Single Breasted Blazer</td>\n",
       "      <td>women outwear</td>\n",
       "    </tr>\n",
       "    <tr>\n",
       "      <th>19</th>\n",
       "      <td>Patterned Bermuda Shorts</td>\n",
       "      <td>women shorts</td>\n",
       "    </tr>\n",
       "  </tbody>\n",
       "</table>\n",
       "</div>"
      ],
      "text/plain": [
       "                             description        category\n",
       "0                Sless Flippy Mini Dress   women dresses\n",
       "1                     Midi Pleated Skirt    women skirts\n",
       "2    Stamos Mix Silk Raglan Knit Sweater     men outwear\n",
       "3                Basic Training Tank Top        men tops\n",
       "4       Fashion Camouflage Hooded Jacket   women outwear\n",
       "5                Straight Leg Sweatpants    men trousers\n",
       "6                       Hooded Pull Over     men outwear\n",
       "7               Ally 3/4 Spring Pullover   women outwear\n",
       "8                  Cropped Pleated Pants  women trousers\n",
       "9         NB Athletics Archive Run Pants    men trousers\n",
       "10          Lottie Paperbag Waist Shorts    women shorts\n",
       "11                       Logocon T-Shirt        men tops\n",
       "12  Comfortable Round Neck Print T-Shirt   women outwear\n",
       "13                 Skinny Stretch Chinos    men trousers\n",
       "14            Flag Chest Logo Sweatshirt     men outwear\n",
       "15              Meet You There 7/8 Pants    men trousers\n",
       "16                          Chino Shorts      men shorts\n",
       "17                     Blue Crew T-Shirt        men tops\n",
       "18         Co-Ord Single Breasted Blazer   women outwear\n",
       "19              Patterned Bermuda Shorts    women shorts"
      ]
     },
     "execution_count": 2,
     "metadata": {},
     "output_type": "execute_result"
    }
   ],
   "source": [
    "fashion_text = pd.read_csv('fashion_text_dataset.csv')\n",
    "fashion_text.head(20)"
   ]
  },
  {
   "cell_type": "markdown",
   "metadata": {},
   "source": [
    "# Create a bag of words"
   ]
  },
  {
   "cell_type": "code",
   "execution_count": 3,
   "metadata": {},
   "outputs": [],
   "source": [
    "from sklearn.feature_extraction.text import CountVectorizer\n",
    "from sklearn.model_selection import train_test_split\n",
    "from sklearn.metrics import accuracy_score "
   ]
  },
  {
   "cell_type": "code",
   "execution_count": 4,
   "metadata": {},
   "outputs": [
    {
     "name": "stdout",
     "output_type": "stream",
     "text": [
      "(23730, 5285)\n"
     ]
    }
   ],
   "source": [
    "docs = map(''.join, fashion_text[['description']].values.tolist())\n",
    "\n",
    "#instantiate CountVectorizer()\n",
    "cv=CountVectorizer(stop_words=\"english\", analyzer='word', \n",
    "                             ngram_range=(1, 1), max_df=1.0, min_df=1, max_features=None)\n",
    " \n",
    "# this steps generates word counts for the words in your docs\n",
    "word_count_vector=cv.fit_transform(docs)\n",
    "print(word_count_vector.shape)\n"
   ]
  },
  {
   "cell_type": "markdown",
   "metadata": {},
   "source": [
    "Split our our dataset into a training set and a test set"
   ]
  },
  {
   "cell_type": "code",
   "execution_count": 5,
   "metadata": {},
   "outputs": [],
   "source": [
    "x_train, x_test, y_train, y_test = train_test_split(fashion_text['description'], fashion_text['category'], test_size=0.2)\n",
    "\n",
    "cvect=CountVectorizer(stop_words=\"english\", analyzer='word', \n",
    "                             ngram_range=(1, 2), max_df=1.0, min_df=1, max_features=None)\n",
    "cvect.fit(x_train)\n",
    "x_train_vectorized = cvect.transform(x_train)\n",
    "x_test_vectorized = cvect.transform(x_test)"
   ]
  },
  {
   "cell_type": "markdown",
   "metadata": {},
   "source": [
    "Fit our training set into a Multinomial Naive Bayes classifier"
   ]
  },
  {
   "cell_type": "code",
   "execution_count": 6,
   "metadata": {},
   "outputs": [
    {
     "name": "stdout",
     "output_type": "stream",
     "text": [
      "Accuracy score using CountVectorizer and Multinomial Naive Bayes: 0.84850400337126\n"
     ]
    }
   ],
   "source": [
    "from sklearn.naive_bayes import MultinomialNB\n",
    "\n",
    "nb = MultinomialNB()\n",
    "nb.fit(x_train_vectorized, y_train)\n",
    "y_pred = nb.predict(x_test_vectorized)\n",
    "print(\"Accuracy score using CountVectorizer and Multinomial Naive Bayes: {}\".format(accuracy_score(y_pred, y_test)))"
   ]
  },
  {
   "cell_type": "markdown",
   "metadata": {},
   "source": [
    "Fit our training set into a stochastic gradient descent classifier"
   ]
  },
  {
   "cell_type": "code",
   "execution_count": 7,
   "metadata": {},
   "outputs": [
    {
     "name": "stdout",
     "output_type": "stream",
     "text": [
      "Accuracy score using CountVectorizer and SGD Classifier: 0.8868520859671302\n"
     ]
    }
   ],
   "source": [
    "from sklearn.linear_model import SGDClassifier\n",
    "\n",
    "sgd = SGDClassifier()\n",
    "sgd.fit(x_train_vectorized, y_train)\n",
    "y_pred = sgd.predict(x_test_vectorized)\n",
    "print(\"Accuracy score using CountVectorizer and SGD Classifier: {}\".format(accuracy_score(y_pred, y_test)))"
   ]
  },
  {
   "cell_type": "markdown",
   "metadata": {},
   "source": [
    "If you change the number of ngrams, different combinations of words are given to the classifier"
   ]
  },
  {
   "cell_type": "code",
   "execution_count": 8,
   "metadata": {},
   "outputs": [],
   "source": [
    "x_train, x_test, y_train, y_test = train_test_split(fashion_text['description'], fashion_text['category'], test_size=0.2)\n",
    "\n",
    "cvect=CountVectorizer(stop_words=\"english\", analyzer='word', \n",
    "                             ngram_range=(1, 2), max_df=1.0, min_df=1, max_features=None)\n",
    "cvect.fit(x_train)\n",
    "x_train_vectorized = cvect.transform(x_train)\n",
    "x_test_vectorized = cvect.transform(x_test)"
   ]
  },
  {
   "cell_type": "code",
   "execution_count": 9,
   "metadata": {},
   "outputs": [
    {
     "name": "stdout",
     "output_type": "stream",
     "text": [
      "Accuracy score using CountVectorizer and Multinomial Naive Bayes: 0.8558786346396966\n"
     ]
    }
   ],
   "source": [
    "from sklearn.naive_bayes import MultinomialNB\n",
    "\n",
    "nb = MultinomialNB()\n",
    "nb.fit(x_train_vectorized, y_train)\n",
    "y_pred = nb.predict(x_test_vectorized)\n",
    "print(\"Accuracy score using CountVectorizer and Multinomial Naive Bayes: {}\".format(accuracy_score(y_pred, y_test)))"
   ]
  },
  {
   "cell_type": "code",
   "execution_count": 10,
   "metadata": {},
   "outputs": [
    {
     "name": "stdout",
     "output_type": "stream",
     "text": [
      "Accuracy score using CountVectorizer and SGD Classifier: 0.8881163084702908\n"
     ]
    }
   ],
   "source": [
    "from sklearn.linear_model import SGDClassifier\n",
    "\n",
    "sgd = SGDClassifier()\n",
    "sgd.fit(x_train_vectorized, y_train)\n",
    "y_pred = sgd.predict(x_test_vectorized)\n",
    "print(\"Accuracy score using CountVectorizer and SGD Classifier: {}\".format(accuracy_score(y_pred, y_test)))"
   ]
  },
  {
   "cell_type": "markdown",
   "metadata": {},
   "source": [
    "# Let's make our embeddings more informative by using TFIDF"
   ]
  },
  {
   "cell_type": "markdown",
   "metadata": {},
   "source": [
    "Previously we took in the frequency of words across all documents, but if words such as 'the' occurs very frequently in every document, it will contribute to a high count frequency even though there is low informational value to it. Inverse Document Frequency penalises these words by reducing their count by a degree."
   ]
  },
  {
   "cell_type": "code",
   "execution_count": 11,
   "metadata": {},
   "outputs": [],
   "source": [
    "from sklearn.feature_extraction.text import TfidfTransformer"
   ]
  },
  {
   "cell_type": "code",
   "execution_count": 12,
   "metadata": {},
   "outputs": [
    {
     "data": {
      "text/html": [
       "<div>\n",
       "<style scoped>\n",
       "    .dataframe tbody tr th:only-of-type {\n",
       "        vertical-align: middle;\n",
       "    }\n",
       "\n",
       "    .dataframe tbody tr th {\n",
       "        vertical-align: top;\n",
       "    }\n",
       "\n",
       "    .dataframe thead th {\n",
       "        text-align: right;\n",
       "    }\n",
       "</style>\n",
       "<table border=\"1\" class=\"dataframe\">\n",
       "  <thead>\n",
       "    <tr style=\"text-align: right;\">\n",
       "      <th></th>\n",
       "      <th>idf</th>\n",
       "    </tr>\n",
       "  </thead>\n",
       "  <tbody>\n",
       "    <tr>\n",
       "      <th>shorts</th>\n",
       "      <td>3.071509</td>\n",
       "    </tr>\n",
       "    <tr>\n",
       "      <th>dress</th>\n",
       "      <td>3.274374</td>\n",
       "    </tr>\n",
       "    <tr>\n",
       "      <th>skirt</th>\n",
       "      <td>3.280951</td>\n",
       "    </tr>\n",
       "    <tr>\n",
       "      <th>shirt</th>\n",
       "      <td>3.374695</td>\n",
       "    </tr>\n",
       "    <tr>\n",
       "      <th>pants</th>\n",
       "      <td>3.582892</td>\n",
       "    </tr>\n",
       "    <tr>\n",
       "      <th>sleeve</th>\n",
       "      <td>3.746757</td>\n",
       "    </tr>\n",
       "    <tr>\n",
       "      <th>jacket</th>\n",
       "      <td>3.813312</td>\n",
       "    </tr>\n",
       "    <tr>\n",
       "      <th>tee</th>\n",
       "      <td>3.957332</td>\n",
       "    </tr>\n",
       "    <tr>\n",
       "      <th>neck</th>\n",
       "      <td>4.027020</td>\n",
       "    </tr>\n",
       "    <tr>\n",
       "      <th>short</th>\n",
       "      <td>4.061522</td>\n",
       "    </tr>\n",
       "  </tbody>\n",
       "</table>\n",
       "</div>"
      ],
      "text/plain": [
       "             idf\n",
       "shorts  3.071509\n",
       "dress   3.274374\n",
       "skirt   3.280951\n",
       "shirt   3.374695\n",
       "pants   3.582892\n",
       "sleeve  3.746757\n",
       "jacket  3.813312\n",
       "tee     3.957332\n",
       "neck    4.027020\n",
       "short   4.061522"
      ]
     },
     "execution_count": 12,
     "metadata": {},
     "output_type": "execute_result"
    }
   ],
   "source": [
    "tfidf_transformer=TfidfTransformer(smooth_idf=True,use_idf=True)\n",
    "tfidf_transformer.fit(word_count_vector)\n",
    " \n",
    "# print idf values\n",
    "df_idf = pd.DataFrame(tfidf_transformer.idf_, index=cv.get_feature_names(),columns=[\"idf\"])\n",
    " \n",
    "# sort ascending\n",
    "df_idf = df_idf.sort_values(by=['idf'])\n",
    "df_idf.head(10)"
   ]
  },
  {
   "cell_type": "markdown",
   "metadata": {},
   "source": [
    "When you combine them together...tfidf, the following shows the weights for 1 document"
   ]
  },
  {
   "cell_type": "code",
   "execution_count": 13,
   "metadata": {
    "scrolled": true
   },
   "outputs": [
    {
     "data": {
      "text/html": [
       "<div>\n",
       "<style scoped>\n",
       "    .dataframe tbody tr th:only-of-type {\n",
       "        vertical-align: middle;\n",
       "    }\n",
       "\n",
       "    .dataframe tbody tr th {\n",
       "        vertical-align: top;\n",
       "    }\n",
       "\n",
       "    .dataframe thead th {\n",
       "        text-align: right;\n",
       "    }\n",
       "</style>\n",
       "<table border=\"1\" class=\"dataframe\">\n",
       "  <thead>\n",
       "    <tr style=\"text-align: right;\">\n",
       "      <th></th>\n",
       "      <th>tfidf</th>\n",
       "    </tr>\n",
       "  </thead>\n",
       "  <tbody>\n",
       "    <tr>\n",
       "      <th>sless</th>\n",
       "      <td>0.699636</td>\n",
       "    </tr>\n",
       "    <tr>\n",
       "      <th>flippy</th>\n",
       "      <td>0.596798</td>\n",
       "    </tr>\n",
       "    <tr>\n",
       "      <th>mini</th>\n",
       "      <td>0.318760</td>\n",
       "    </tr>\n",
       "    <tr>\n",
       "      <th>dress</th>\n",
       "      <td>0.229640</td>\n",
       "    </tr>\n",
       "    <tr>\n",
       "      <th>pant</th>\n",
       "      <td>0.000000</td>\n",
       "    </tr>\n",
       "    <tr>\n",
       "      <th>paper</th>\n",
       "      <td>0.000000</td>\n",
       "    </tr>\n",
       "    <tr>\n",
       "      <th>paris</th>\n",
       "      <td>0.000000</td>\n",
       "    </tr>\n",
       "    <tr>\n",
       "      <th>pareo</th>\n",
       "      <td>0.000000</td>\n",
       "    </tr>\n",
       "    <tr>\n",
       "      <th>parched</th>\n",
       "      <td>0.000000</td>\n",
       "    </tr>\n",
       "    <tr>\n",
       "      <th>paragraph</th>\n",
       "      <td>0.000000</td>\n",
       "    </tr>\n",
       "  </tbody>\n",
       "</table>\n",
       "</div>"
      ],
      "text/plain": [
       "              tfidf\n",
       "sless      0.699636\n",
       "flippy     0.596798\n",
       "mini       0.318760\n",
       "dress      0.229640\n",
       "pant       0.000000\n",
       "paper      0.000000\n",
       "paris      0.000000\n",
       "pareo      0.000000\n",
       "parched    0.000000\n",
       "paragraph  0.000000"
      ]
     },
     "execution_count": 13,
     "metadata": {},
     "output_type": "execute_result"
    }
   ],
   "source": [
    "# count matrix\n",
    "docs = map(''.join, fashion_text[['description']].values.tolist())\n",
    "count_vector=cv.transform(docs)\n",
    "\n",
    "# tf-idf scores\n",
    "tf_idf_vector=tfidf_transformer.transform(count_vector)\n",
    "\n",
    "feature_names = cv.get_feature_names()\n",
    " \n",
    "#get tfidf vector for first document\n",
    "first_document_vector=tf_idf_vector[0]\n",
    " \n",
    "#print the scores\n",
    "df = pd.DataFrame(first_document_vector.T.todense(), index=feature_names, columns=[\"tfidf\"])\n",
    "df = df.sort_values(by=[\"tfidf\"],ascending=False)\n",
    "df.head(10)"
   ]
  },
  {
   "cell_type": "markdown",
   "metadata": {},
   "source": [
    "# Create a TFIDF embedding "
   ]
  },
  {
   "cell_type": "code",
   "execution_count": 14,
   "metadata": {},
   "outputs": [
    {
     "name": "stdout",
     "output_type": "stream",
     "text": [
      "Length of vocab:  5285\n",
      "Sample of vocab ['510', '511', '512', '518', '52797', '54', '58', '58825', '59373', '59406', '59407', '59409', '59411', '59463', '596346', '5in', '5palle', '5pocket', '60', '61831518', '65', '66', '689', '6m', '70', '705', '706', '707', '709', '710', '711', '712', '720', '721', '722', '724', '728', '72970', '72d', '73', '750', '75497', '75562', '76006', '76157', '765', '77', '77879', '779', '78', '790', '79488', '79697', '7_8', '7in', '80', '80s', '8419s', '8761w', '879', '8805', '8815', '8923', '90', '901', '902', '903', '9088', '90s', '912', '9212s', '93', '93306w', '93308w', '93343', '93368w', '93417w', '93442w', '94', '95', '96', '9710', '9717', '9717w', '98', 'a003', 'a171', 'a19', 'a249', 'a500151', 'aaa', 'aaron', 'ab', 'abaya', 'abbotsford', 'abby', 'abel', 'abella', 'abrig', 'abstract', 'ac', 'acacia', 'academy', 'accelerate', 'accent', 'accentuated', 'access', 'accessory', 'acclerate', 'accordian', 'ace', 'achiever', 'acid', 'action', 'activchill', 'active', 'ad', 'adam', 'adapt', 'adaptable', 'adaptation', 'adda', 'addie', 'adelia', 'adelina', 'adeline', 'adella', 'ader', 'aderienne', 'adiads', 'adicolor', 'adidas', 'adisa', 'adjustable', 'adjuster', 'adrian', 'adriana', 'adrianna', 'adventure', 'aeon', 'aeroknit', 'aeroready', 'aery', 'afilkke', 'agata', 'age', 'aged', 'agility', 'ahina', 'ai', 'aiden', 'aiko', 'aileen', 'aine', 'air', 'airlite', 'airy', 'aja', 'akaysha', 'akuti', 'al', 'alana', 'alanna', 'alaya', 'albacore', 'albany', 'alberta', 'albiwo', 'alchemy', 'alectrona', 'alessandra', 'alessia', 'alex', 'alexa', 'alexandra', 'alexei', 'alexi', 'alexia', 'alexian', 'alexis', 'alfonsi', 'alice', 'alicia', 'aline', 'alisa', 'alison', 'alive', 'alivia', 'allan', 'allegra', 'allen', 'allie', 'alligator', 'alllover', 'allover', 'ally', 'allyn', 'alma', 'aloha', 'alona']\n"
     ]
    }
   ],
   "source": [
    "from sklearn.feature_extraction.text import TfidfVectorizer \n",
    " \n",
    "# settings that you use for count vectorizer will go here\n",
    "tfidf_vectorizer=TfidfVectorizer(use_idf=True, stop_words=\"english\", analyzer='word', \n",
    "                             ngram_range=(1, 1))\n",
    "\n",
    "docs = map(''.join, fashion_text[['description']].values.tolist())\n",
    "\n",
    "# just send in all your docs here\n",
    "tfidf_vectorizer_vectors=tfidf_vectorizer.fit_transform(docs)\n",
    "\n",
    "print('Length of vocab: ', len(tfidf_vectorizer.get_feature_names()))\n",
    "print('Sample of vocab', tfidf_vectorizer.get_feature_names()[150:350]) # Sample of features"
   ]
  },
  {
   "cell_type": "markdown",
   "metadata": {},
   "source": [
    "This time we train a tfidf embedding with ngram of 2"
   ]
  },
  {
   "cell_type": "code",
   "execution_count": 15,
   "metadata": {},
   "outputs": [
    {
     "name": "stdout",
     "output_type": "stream",
     "text": [
      "(18984, 26430)\n",
      "(4746, 26430)\n"
     ]
    }
   ],
   "source": [
    "x_train, x_test, y_train, y_test = train_test_split(fashion_text['description'], fashion_text['category'], test_size=0.2)\n",
    "\n",
    "vect = TfidfVectorizer(ngram_range=(1, 2))\n",
    "vect.fit(x_train)\n",
    "\n",
    "x_train_vectorized = vect.transform(x_train)\n",
    "x_test_vectorized = vect.transform(x_test)\n",
    "\n",
    "print(x_train_vectorized.shape)\n",
    "print(x_test_vectorized.shape)"
   ]
  },
  {
   "cell_type": "code",
   "execution_count": 16,
   "metadata": {},
   "outputs": [
    {
     "name": "stdout",
     "output_type": "stream",
     "text": [
      "Accuracy score using TFIDF and SGD Classifier: 0.8588284871470713\n"
     ]
    }
   ],
   "source": [
    "sgd = SGDClassifier()\n",
    "sgd.fit(x_train_vectorized, y_train)\n",
    "y_pred = sgd.predict(x_test_vectorized)\n",
    "print(\"Accuracy score using TFIDF and SGD Classifier: {}\".format(accuracy_score(y_pred, y_test)))"
   ]
  },
  {
   "cell_type": "code",
   "execution_count": 17,
   "metadata": {},
   "outputs": [
    {
     "name": "stdout",
     "output_type": "stream",
     "text": [
      "Accuracy score using TFIDF and Multinomial Naive Bayes: 0.8383902233459756\n"
     ]
    }
   ],
   "source": [
    "nb = MultinomialNB()\n",
    "nb.fit(x_train_vectorized, y_train)\n",
    "y_pred = nb.predict(x_test_vectorized)\n",
    "print(\"Accuracy score using TFIDF and Multinomial Naive Bayes: {}\".format(accuracy_score(y_pred, y_test)))"
   ]
  },
  {
   "cell_type": "code",
   "execution_count": 18,
   "metadata": {
    "scrolled": true
   },
   "outputs": [
    {
     "name": "stdout",
     "output_type": "stream",
     "text": [
      "Accuracy score using TFIDF and Linear SVC: 0.8744205646860514\n"
     ]
    }
   ],
   "source": [
    "from sklearn.svm import LinearSVC\n",
    "clf = LinearSVC(random_state=0, tol=1e-5)\n",
    "clf.fit(x_train_vectorized, y_train)\n",
    "\n",
    "y_pred = clf.predict(x_test_vectorized)\n",
    "print(\"Accuracy score using TFIDF and Linear SVC: {}\".format(accuracy_score(y_pred, y_test)))"
   ]
  },
  {
   "cell_type": "markdown",
   "metadata": {},
   "source": [
    "### Test out on a sentence "
   ]
  },
  {
   "cell_type": "code",
   "execution_count": 19,
   "metadata": {},
   "outputs": [
    {
     "data": {
      "text/plain": [
       "'men tops'"
      ]
     },
     "execution_count": 19,
     "metadata": {},
     "output_type": "execute_result"
    }
   ],
   "source": [
    "test = ['Her son wore a black shirt']\n",
    "test_vect = vect.transform(test)\n",
    "\n",
    "\n",
    "y_pred = sgd.predict(test_vect)\n",
    "y_pred[0]"
   ]
  },
  {
   "cell_type": "markdown",
   "metadata": {},
   "source": [
    "# TFIDF with Multilayer Perceptron (Deep Neural Network)"
   ]
  },
  {
   "cell_type": "code",
   "execution_count": 23,
   "metadata": {},
   "outputs": [],
   "source": [
    "import tensorflow as tf\n",
    "import tensorflow.keras\n",
    "from tensorflow.keras.models import Model, Sequential\n",
    "from tensorflow.keras.layers import *\n",
    "from tensorflow.keras.optimizers import Adam, SGD\n"
   ]
  },
  {
   "cell_type": "code",
   "execution_count": 24,
   "metadata": {},
   "outputs": [
    {
     "name": "stdout",
     "output_type": "stream",
     "text": [
      "(18984, 4830)\n",
      "(4746, 4830)\n"
     ]
    }
   ],
   "source": [
    "x_train, x_test, y_train, y_test = train_test_split(fashion_text['description'], fashion_text['category'], test_size=0.2)\n",
    "\n",
    "vect = TfidfVectorizer(ngram_range=(1, 1), stop_words='english', analyzer='word')\n",
    "vect.fit(x_train)\n",
    "\n",
    "x_train_vectorized = vect.transform(x_train)\n",
    "x_test_vectorized = vect.transform(x_test)\n",
    "\n",
    "print(x_train_vectorized.shape)\n",
    "print(x_test_vectorized.shape)"
   ]
  },
  {
   "cell_type": "code",
   "execution_count": 25,
   "metadata": {},
   "outputs": [
    {
     "name": "stdout",
     "output_type": "stream",
     "text": [
      "WARNING:tensorflow:From /home/aaron/.local/lib/python3.6/site-packages/tensorflow/python/ops/init_ops.py:1251: calling VarianceScaling.__init__ (from tensorflow.python.ops.init_ops) with dtype is deprecated and will be removed in a future version.\n",
      "Instructions for updating:\n",
      "Call initializer instance with the dtype argument instead of passing it to the constructor\n"
     ]
    }
   ],
   "source": [
    "#Adding dense layers to model\n",
    "model = tf.keras.Sequential([\n",
    "    tf.keras.layers.Dense(256,input_shape=(x_train_vectorized.shape[1],),activation='relu'),\n",
    "    tf.keras.layers.Dropout(0.5),\n",
    "    tf.keras.layers.Dense(128,activation='relu'),\n",
    "    tf.keras.layers.Dropout(0.3),\n",
    "    tf.keras.layers.Dense(64,activation='relu'),\n",
    "    tf.keras.layers.Dense(10, activation='softmax')\n",
    "])\n",
    "\n",
    "model.compile(loss=\"categorical_crossentropy\",optimizer=\"adam\",metrics=['acc'])"
   ]
  },
  {
   "cell_type": "code",
   "execution_count": 26,
   "metadata": {},
   "outputs": [],
   "source": [
    "from sklearn import preprocessing\n",
    "le = preprocessing.LabelEncoder()\n",
    "y_train = le.fit_transform(y_train)\n",
    "y_train = tf.keras.utils.to_categorical(y_train)\n",
    "#le.inverse_transform(y_train)"
   ]
  },
  {
   "cell_type": "code",
   "execution_count": 27,
   "metadata": {},
   "outputs": [
    {
     "name": "stdout",
     "output_type": "stream",
     "text": [
      "Train on 16136 samples, validate on 2848 samples\n",
      "Epoch 1/25\n",
      "16136/16136 [==============================] - 1s 49us/sample - loss: 1.8695 - acc: 0.4082 - val_loss: 0.7940 - val_acc: 0.7482\n",
      "Epoch 2/25\n",
      "16136/16136 [==============================] - 0s 29us/sample - loss: 0.5867 - acc: 0.7877 - val_loss: 0.4119 - val_acc: 0.8367\n",
      "Epoch 3/25\n",
      "16136/16136 [==============================] - 0s 28us/sample - loss: 0.3726 - acc: 0.8635 - val_loss: 0.3569 - val_acc: 0.8613\n",
      "Epoch 4/25\n",
      "16136/16136 [==============================] - 0s 29us/sample - loss: 0.2983 - acc: 0.8909 - val_loss: 0.3400 - val_acc: 0.8620\n",
      "Epoch 5/25\n",
      "16136/16136 [==============================] - 0s 29us/sample - loss: 0.2540 - acc: 0.9061 - val_loss: 0.3325 - val_acc: 0.8704\n",
      "Epoch 6/25\n",
      "16136/16136 [==============================] - 0s 28us/sample - loss: 0.2237 - acc: 0.9176 - val_loss: 0.3448 - val_acc: 0.8641\n",
      "Epoch 7/25\n",
      "16136/16136 [==============================] - 0s 29us/sample - loss: 0.2027 - acc: 0.9250 - val_loss: 0.3409 - val_acc: 0.8761\n",
      "Epoch 8/25\n",
      "16136/16136 [==============================] - 0s 28us/sample - loss: 0.1903 - acc: 0.9279 - val_loss: 0.3397 - val_acc: 0.8746\n",
      "Epoch 9/25\n",
      "16136/16136 [==============================] - 0s 28us/sample - loss: 0.1733 - acc: 0.9335 - val_loss: 0.3418 - val_acc: 0.8764\n",
      "Epoch 10/25\n",
      "16136/16136 [==============================] - 0s 29us/sample - loss: 0.1605 - acc: 0.9404 - val_loss: 0.3504 - val_acc: 0.8771\n",
      "Epoch 11/25\n",
      "16136/16136 [==============================] - 0s 29us/sample - loss: 0.1531 - acc: 0.9388 - val_loss: 0.3453 - val_acc: 0.8782\n",
      "Epoch 12/25\n",
      "16136/16136 [==============================] - 0s 29us/sample - loss: 0.1450 - acc: 0.9433 - val_loss: 0.3504 - val_acc: 0.8789\n",
      "Epoch 13/25\n",
      "16136/16136 [==============================] - 0s 30us/sample - loss: 0.1414 - acc: 0.9460 - val_loss: 0.3574 - val_acc: 0.8761\n",
      "Epoch 14/25\n",
      "16136/16136 [==============================] - 0s 31us/sample - loss: 0.1300 - acc: 0.9501 - val_loss: 0.3599 - val_acc: 0.8813\n",
      "Epoch 15/25\n",
      "16136/16136 [==============================] - 0s 29us/sample - loss: 0.1250 - acc: 0.9509 - val_loss: 0.3638 - val_acc: 0.8768\n",
      "Epoch 16/25\n",
      "16136/16136 [==============================] - 0s 28us/sample - loss: 0.1208 - acc: 0.9512 - val_loss: 0.3746 - val_acc: 0.8782\n",
      "Epoch 17/25\n",
      "16136/16136 [==============================] - 0s 29us/sample - loss: 0.1216 - acc: 0.9513 - val_loss: 0.3723 - val_acc: 0.8799\n",
      "Epoch 18/25\n",
      "16136/16136 [==============================] - 0s 29us/sample - loss: 0.1109 - acc: 0.9554 - val_loss: 0.3854 - val_acc: 0.8761\n",
      "Epoch 19/25\n",
      "16136/16136 [==============================] - 0s 29us/sample - loss: 0.1053 - acc: 0.9579 - val_loss: 0.3855 - val_acc: 0.8803\n",
      "Epoch 20/25\n",
      "16136/16136 [==============================] - 0s 29us/sample - loss: 0.1018 - acc: 0.9604 - val_loss: 0.4016 - val_acc: 0.8803\n",
      "Epoch 21/25\n",
      "16136/16136 [==============================] - 0s 29us/sample - loss: 0.1013 - acc: 0.9598 - val_loss: 0.3990 - val_acc: 0.8789\n",
      "Epoch 22/25\n",
      "16136/16136 [==============================] - 0s 28us/sample - loss: 0.1036 - acc: 0.9593 - val_loss: 0.3983 - val_acc: 0.8855\n",
      "Epoch 23/25\n",
      "16136/16136 [==============================] - 0s 29us/sample - loss: 0.0947 - acc: 0.9622 - val_loss: 0.4065 - val_acc: 0.8806\n",
      "Epoch 24/25\n",
      "16136/16136 [==============================] - 0s 29us/sample - loss: 0.0908 - acc: 0.9634 - val_loss: 0.4249 - val_acc: 0.8778\n",
      "Epoch 25/25\n",
      "16136/16136 [==============================] - 1s 32us/sample - loss: 0.0961 - acc: 0.9638 - val_loss: 0.4177 - val_acc: 0.8831\n"
     ]
    }
   ],
   "source": [
    "history = model.fit(x_train_vectorized, y_train,\n",
    "                    batch_size=256,\n",
    "                    epochs=25,\n",
    "                    verbose=1,\n",
    "                    validation_split=0.15)"
   ]
  },
  {
   "cell_type": "code",
   "execution_count": 28,
   "metadata": {},
   "outputs": [
    {
     "data": {
      "image/png": "[encoded data removed]",
      "text/plain": [
       "<Figure size 432x288 with 1 Axes>"
      ]
     },
     "metadata": {
      "needs_background": "light"
     },
     "output_type": "display_data"
    }
   ],
   "source": [
    "%matplotlib inline\n",
    "import matplotlib.pyplot as plt\n",
    "\n",
    "def plot_train(hist):\n",
    "    h = hist.history\n",
    "    if 'acc' in h:\n",
    "        meas='acc'\n",
    "        loc='lower right'\n",
    "    else:\n",
    "        meas='loss'\n",
    "        loc='upper right'\n",
    "    plt.plot(hist.history[meas])\n",
    "    plt.plot(hist.history['val_'+meas])\n",
    "    plt.title('model '+meas)\n",
    "    plt.ylabel(meas)\n",
    "    plt.xlabel('epoch')\n",
    "    plt.legend(['train', 'validation'], loc=loc)\n",
    "\n",
    "plot_train(history)"
   ]
  },
  {
   "cell_type": "markdown",
   "metadata": {},
   "source": [
    "### Evaluation"
   ]
  },
  {
   "cell_type": "code",
   "execution_count": 29,
   "metadata": {},
   "outputs": [
    {
     "name": "stdout",
     "output_type": "stream",
     "text": [
      "4746/4746 [==============================] - 0s 53us/sample - loss: 0.4138 - acc: 0.8856\n",
      "Loss :  0.41, Accuracy :  0.89\n"
     ]
    }
   ],
   "source": [
    "y_test = le.fit_transform(y_test)\n",
    "y_test = tf.keras.utils.to_categorical(y_test)\n",
    "\n",
    "results =model.evaluate(x_test_vectorized,y_test)\n",
    "print(\"Loss : % 5.2f, Accuracy : % 5.2f\" %(results[0], results[1]))  "
   ]
  },
  {
   "cell_type": "code",
   "execution_count": 62,
   "metadata": {},
   "outputs": [],
   "source": [
    "# predict crisp classes for test set\n",
    "yhat = model.predict(x_test_vectorized, verbose=0)\n",
    "\n",
    "preds_labels = [[1 if x > 0.5 else 0 for idx,x in enumerate(i) ] for i in yhat]"
   ]
  },
  {
   "cell_type": "code",
   "execution_count": 63,
   "metadata": {},
   "outputs": [
    {
     "data": {
      "text/plain": [
       "0.8861213720316623"
      ]
     },
     "execution_count": 63,
     "metadata": {},
     "output_type": "execute_result"
    }
   ],
   "source": [
    "from sklearn.metrics import multilabel_confusion_matrix, f1_score\n",
    "\n",
    "f1_score(y_test, preds_labels, average='micro')"
   ]
  },
  {
   "cell_type": "code",
   "execution_count": null,
   "metadata": {},
   "outputs": [],
   "source": []
  },
  {
   "cell_type": "code",
   "execution_count": null,
   "metadata": {},
   "outputs": [],
   "source": []
  }
 ],
 "metadata": {
  "kernelspec": {
   "display_name": "Python 3",
   "language": "python",
   "name": "python3"
  },
  "language_info": {
   "codemirror_mode": {
    "name": "ipython",
    "version": 3
   },
   "file_extension": ".py",
   "mimetype": "text/x-python",
   "name": "python",
   "nbconvert_exporter": "python",
   "pygments_lexer": "ipython3",
   "version": "3.6.9"
  }
 },
 "nbformat": 4,
 "nbformat_minor": 2
}
